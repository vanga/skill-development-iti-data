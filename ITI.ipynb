{
  "nbformat": 4,
  "nbformat_minor": 0,
  "metadata": {
    "colab": {
      "provenance": []
    },
    "kernelspec": {
      "name": "python3",
      "display_name": "Python 3"
    },
    "language_info": {
      "name": "python"
    }
  },
  "cells": [
    {
      "cell_type": "code",
      "execution_count": null,
      "metadata": {
        "colab": {
          "base_uri": "https://localhost:8080/"
        },
        "id": "iUJaIg8nGXe7",
        "outputId": "a6f8ff9f-9e38-4b85-b962-04e343ef997c"
      },
      "outputs": [
        {
          "output_type": "stream",
          "name": "stdout",
          "text": [
            "Requirement already satisfied: pandas in /usr/local/lib/python3.10/dist-packages (2.2.2)\n",
            "Requirement already satisfied: pyarrow in /usr/local/lib/python3.10/dist-packages (17.0.0)\n",
            "Requirement already satisfied: numpy>=1.22.4 in /usr/local/lib/python3.10/dist-packages (from pandas) (1.26.4)\n",
            "Requirement already satisfied: python-dateutil>=2.8.2 in /usr/local/lib/python3.10/dist-packages (from pandas) (2.8.2)\n",
            "Requirement already satisfied: pytz>=2020.1 in /usr/local/lib/python3.10/dist-packages (from pandas) (2024.2)\n",
            "Requirement already satisfied: tzdata>=2022.7 in /usr/local/lib/python3.10/dist-packages (from pandas) (2024.2)\n",
            "Requirement already satisfied: six>=1.5 in /usr/local/lib/python3.10/dist-packages (from python-dateutil>=2.8.2->pandas) (1.17.0)\n"
          ]
        }
      ],
      "source": [
        "pip install pandas pyarrow"
      ]
    },
    {
      "cell_type": "code",
      "source": [
        "import pandas as pd\n",
        "\n",
        "# Read Parquet file\n",
        "df = pd.read_parquet('output.parquet', engine='pyarrow')\n",
        "\n",
        "# Display the first few rows\n",
        "print(df.head())\n"
      ],
      "metadata": {
        "colab": {
          "base_uri": "https://localhost:8080/"
        },
        "id": "mdWzcYSFGcum",
        "outputId": "3257faa8-35be-41ad-ee0a-df8103234d3e"
      },
      "execution_count": null,
      "outputs": [
        {
          "output_type": "stream",
          "name": "stdout",
          "text": [
            "  pkTraineeRegNumber  TraineeFirstName Gender FatherGuardianName  \\\n",
            "0      R140812000429     PAPU HANDIQUE      M   HORUMON HANDIQUE   \n",
            "1      R140812000428  MD SUFIYAN AHMED      M    MD NOUSAD AHMED   \n",
            "2      R140812000427         LIPU MURI      M         TAGAM MURI   \n",
            "3      R140812000426        TECHI TAGG      M        TECHI RENSO   \n",
            "4      R140812000425       SANGHA TADE      M        SANGHA TARE   \n",
            "\n",
            "        MotherName                            Name Course Duration  \\\n",
            "0  MINATI HANDIQUE                     Electrician          2 Year   \n",
            "1       MINU BEGUM                         Wireman          2 Year   \n",
            "2        YATE MURI  Secretarial Practice (English)          1 Year   \n",
            "3      TECHI YOKUM                     Electrician          2 Year   \n",
            "4    SANGHA YANANG                       Carpenter          1 Year   \n",
            "\n",
            "           StateName         DistrictName Category Qualification  \\\n",
            "0  ARUNACHAL PRADESH  LOWER DIBANG VALLEY      OBC          10th   \n",
            "1  ARUNACHAL PRADESH  LOWER DIBANG VALLEY      GEN           8th   \n",
            "2  ARUNACHAL PRADESH      UPPER SUBANSIRI       ST           nan   \n",
            "3  ARUNACHAL PRADESH      UPPER SUBANSIRI       ST           nan   \n",
            "4  ARUNACHAL PRADESH  LOWER DIBANG VALLEY       ST           8th   \n",
            "\n",
            "  Education Stream                                        Name.1 ITICategory  \n",
            "0      Engineering    Govt. Industrial Training Institute, Roing           G  \n",
            "1      Engineering    Govt. Industrial Training Institute, Roing           G  \n",
            "2  Non-Engineering  Govt Industrial Training Institute, Tabarijo           G  \n",
            "3      Engineering  Govt Industrial Training Institute, Tabarijo           G  \n",
            "4      Engineering    Govt. Industrial Training Institute, Roing           G  \n"
          ]
        }
      ]
    },
    {
      "cell_type": "code",
      "source": [],
      "metadata": {
        "id": "XSglORECHPJC"
      },
      "execution_count": null,
      "outputs": []
    },
    {
      "source": [
        "import pandas as pd\n",
        "\n",
        "try:\n",
        "    # Read the Parquet file\n",
        "    df = pd.read_parquet('/content/output.parquet')\n",
        "\n",
        "    # Convert to CSV and save\n",
        "    df.to_csv('/content/output.csv', index=False)\n",
        "    print(\"Parquet file successfully converted to CSV!\")\n",
        "\n",
        "except Exception as e:\n",
        "    print(f\"An error occurred: {e}\")\n",
        "    print(\"Please ensure the Parquet file is valid and accessible.\")"
      ],
      "cell_type": "code",
      "metadata": {
        "colab": {
          "base_uri": "https://localhost:8080/"
        },
        "id": "QJCQVUeZIhdY",
        "outputId": "fc398d82-c0e3-48aa-8e1a-3230bfa16036"
      },
      "execution_count": null,
      "outputs": [
        {
          "output_type": "stream",
          "name": "stdout",
          "text": [
            "Parquet file successfully converted to CSV!\n"
          ]
        }
      ]
    },
    {
      "cell_type": "code",
      "source": [
        "print(df['pkTraineeRegNumber'])"
      ],
      "metadata": {
        "colab": {
          "base_uri": "https://localhost:8080/"
        },
        "id": "evKIylsnIiEl",
        "outputId": "64acce58-7f37-4457-f150-be45cb758b71"
      },
      "execution_count": null,
      "outputs": [
        {
          "output_type": "stream",
          "name": "stdout",
          "text": [
            "0           R140812000429\n",
            "1           R140812000428\n",
            "2           R140812000427\n",
            "3           R140812000426\n",
            "4           R140812000425\n",
            "                ...      \n",
            "10754595    R160813000005\n",
            "10754596    R160813000004\n",
            "10754597    R160813000003\n",
            "10754598    R160813000002\n",
            "10754599    R160813000001\n",
            "Name: pkTraineeRegNumber, Length: 10754600, dtype: object\n"
          ]
        }
      ]
    },
    {
      "cell_type": "code",
      "source": [],
      "metadata": {
        "id": "v-eVuDW8eBBm"
      },
      "execution_count": null,
      "outputs": []
    },
    {
      "source": [
        "import pandas as pd\n",
        "import re\n",
        "\n",
        "# Assuming your DataFrame is named 'df'\n",
        "\n",
        "# Function to extract and format the year\n",
        "def extract_year(reg_number):\n",
        "    match = re.search(r\"R(\\d{2})\", reg_number)  # Find 'R' followed by 2 digits\n",
        "    if match:\n",
        "        return (\"20\" + match.group(1))  # Convert to 4-digit year\n",
        "    return None  # Handle cases where the pattern isn't found\n",
        "\n",
        "# Apply the function to create the 'Year' column\n",
        "df['Year'] = df['pkTraineeRegNumber'].apply(extract_year)\n",
        "\n",
        "# Print the DataFrame with the new 'Year' column\n",
        "print(df)"
      ],
      "cell_type": "code",
      "metadata": {
        "colab": {
          "base_uri": "https://localhost:8080/"
        },
        "id": "hrY487i-hwvS",
        "outputId": "d1481add-37c4-4efc-81cc-0465c84751b9"
      },
      "execution_count": null,
      "outputs": [
        {
          "output_type": "stream",
          "name": "stdout",
          "text": [
            "         pkTraineeRegNumber  TraineeFirstName Gender FatherGuardianName  \\\n",
            "0             R140812000429     PAPU HANDIQUE      M   HORUMON HANDIQUE   \n",
            "1             R140812000428  MD SUFIYAN AHMED      M    MD NOUSAD AHMED   \n",
            "2             R140812000427         LIPU MURI      M         TAGAM MURI   \n",
            "3             R140812000426        TECHI TAGG      M        TECHI RENSO   \n",
            "4             R140812000425       SANGHA TADE      M        SANGHA TARE   \n",
            "...                     ...               ...    ...                ...   \n",
            "10754595      R160813000005        TEMSUMEREN      M      LANUTEMSHI AO   \n",
            "10754596      R160813000004          TENUSOWA      M          TALIMEREN   \n",
            "10754597      R160813000003          TIAMANEN      M        SHILUYANGER   \n",
            "10754598      R160813000002    MOALONG PONGEN      M   LIMAONGBA PONGEN   \n",
            "10754599      R160813000001   TEMSULILA JAMIR      F  YAPANGCHIBA JAMIR   \n",
            "\n",
            "                 MotherName                            Name Course Duration  \\\n",
            "0           MINATI HANDIQUE                     Electrician          2 Year   \n",
            "1                MINU BEGUM                         Wireman          2 Year   \n",
            "2                 YATE MURI  Secretarial Practice (English)          1 Year   \n",
            "3               TECHI YOKUM                     Electrician          2 Year   \n",
            "4             SANGHA YANANG                       Carpenter          1 Year   \n",
            "...                     ...                             ...             ...   \n",
            "10754595         IMTINUNGLA  Secretarial Practice (English)          1 Year   \n",
            "10754596            ASANGLA  Secretarial Practice (English)          1 Year   \n",
            "10754597             ARENLA  Secretarial Practice (English)          1 Year   \n",
            "10754598      ASANGLA JAMIR  Secretarial Practice (English)          1 Year   \n",
            "10754599  YASHILEMLA LEMTUR  Secretarial Practice (English)          1 Year   \n",
            "\n",
            "                  StateName         DistrictName Category Qualification  \\\n",
            "0         ARUNACHAL PRADESH  LOWER DIBANG VALLEY      OBC          10th   \n",
            "1         ARUNACHAL PRADESH  LOWER DIBANG VALLEY      GEN           8th   \n",
            "2         ARUNACHAL PRADESH      UPPER SUBANSIRI       ST           nan   \n",
            "3         ARUNACHAL PRADESH      UPPER SUBANSIRI       ST           nan   \n",
            "4         ARUNACHAL PRADESH  LOWER DIBANG VALLEY       ST           8th   \n",
            "...                     ...                  ...      ...           ...   \n",
            "10754595           NAGALAND           MOKOKCHUNG       ST          12th   \n",
            "10754596           NAGALAND           MOKOKCHUNG       ST            BA   \n",
            "10754597           NAGALAND           MOKOKCHUNG       ST          12th   \n",
            "10754598           NAGALAND           MOKOKCHUNG       ST          10th   \n",
            "10754599           NAGALAND           MOKOKCHUNG       ST            BA   \n",
            "\n",
            "         Education Stream                                            Name.1  \\\n",
            "0             Engineering        Govt. Industrial Training Institute, Roing   \n",
            "1             Engineering        Govt. Industrial Training Institute, Roing   \n",
            "2         Non-Engineering      Govt Industrial Training Institute, Tabarijo   \n",
            "3             Engineering      Govt Industrial Training Institute, Tabarijo   \n",
            "4             Engineering        Govt. Industrial Training Institute, Roing   \n",
            "...                   ...                                               ...   \n",
            "10754595  Non-Engineering  Govt.  Industrial Training Institute, Mokokchung   \n",
            "10754596  Non-Engineering  Govt.  Industrial Training Institute, Mokokchung   \n",
            "10754597  Non-Engineering  Govt.  Industrial Training Institute, Mokokchung   \n",
            "10754598  Non-Engineering  Govt.  Industrial Training Institute, Mokokchung   \n",
            "10754599  Non-Engineering  Govt.  Industrial Training Institute, Mokokchung   \n",
            "\n",
            "         ITICategory  Year  \n",
            "0                  G  2014  \n",
            "1                  G  2014  \n",
            "2                  G  2014  \n",
            "3                  G  2014  \n",
            "4                  G  2014  \n",
            "...              ...   ...  \n",
            "10754595           G  2016  \n",
            "10754596           G  2016  \n",
            "10754597           G  2016  \n",
            "10754598           G  2016  \n",
            "10754599           G  2016  \n",
            "\n",
            "[10754600 rows x 15 columns]\n"
          ]
        }
      ]
    },
    {
      "source": [
        "print(df['Year'])"
      ],
      "cell_type": "code",
      "metadata": {
        "colab": {
          "base_uri": "https://localhost:8080/"
        },
        "id": "rVXjrdGiiUXM",
        "outputId": "f0649a9b-5ac7-4497-f5b7-7991208379c0"
      },
      "execution_count": null,
      "outputs": [
        {
          "output_type": "stream",
          "name": "stdout",
          "text": [
            "0           2014\n",
            "1           2014\n",
            "2           2014\n",
            "3           2014\n",
            "4           2014\n",
            "            ... \n",
            "10754595    2016\n",
            "10754596    2016\n",
            "10754597    2016\n",
            "10754598    2016\n",
            "10754599    2016\n",
            "Name: Year, Length: 10754600, dtype: object\n"
          ]
        }
      ]
    },
    {
      "cell_type": "code",
      "source": [],
      "metadata": {
        "id": "1cu_4drnin1o"
      },
      "execution_count": null,
      "outputs": []
    },
    {
      "source": [
        "# Assuming your DataFrame is named 'df' and has a 'Year' column\n",
        "\n",
        "# Get unique years\n",
        "unique_years = df['Year'].unique()\n",
        "\n",
        "# Create a dictionary to store DataFrames for each year\n",
        "year_dfs = {}\n",
        "\n",
        "# Iterate through unique years and create DataFrames\n",
        "for year in unique_years:\n",
        "    year_dfs[year] = df[df['Year'] == year]\n",
        "\n",
        "# Access individual DataFrames using the year as the key\n",
        "# For example, to access the DataFrame for the year 2014:\n",
        "df_2014 = year_dfs['2014']"
      ],
      "cell_type": "code",
      "metadata": {
        "id": "mijUjaExi6Cq"
      },
      "execution_count": null,
      "outputs": []
    },
    {
      "cell_type": "code",
      "source": [
        "df_2016 = year_dfs['2016']\n",
        "print(df_2016)\n"
      ],
      "metadata": {
        "colab": {
          "base_uri": "https://localhost:8080/"
        },
        "id": "VWjVFRD5i6nM",
        "outputId": "3465185f-4440-4bfb-ffb1-4fd512844269"
      },
      "execution_count": null,
      "outputs": [
        {
          "output_type": "stream",
          "name": "stdout",
          "text": [
            "         pkTraineeRegNumber       TraineeFirstName Gender  \\\n",
            "4244          R160812000617              Boge Nada      M   \n",
            "4245          R160812000616            Techi Sania      M   \n",
            "4246          R160812000615  Chow Phoming Longphoi      M   \n",
            "4247          R160812000614            LICHA HELLY      M   \n",
            "4248          R160812000611          DOKASH NYOKIR      M   \n",
            "...                     ...                    ...    ...   \n",
            "10754595      R160813000005             TEMSUMEREN      M   \n",
            "10754596      R160813000004               TENUSOWA      M   \n",
            "10754597      R160813000003               TIAMANEN      M   \n",
            "10754598      R160813000002         MOALONG PONGEN      M   \n",
            "10754599      R160813000001        TEMSULILA JAMIR      F   \n",
            "\n",
            "              FatherGuardianName         MotherName  \\\n",
            "4244             Lt. Mikong Nada         Sonya Nada   \n",
            "4245                  Techi Tani         Techi Atup   \n",
            "4246      Ch Mongsutong Longphoi   Ng Maya Longphoi   \n",
            "4247                  LICHA TANA         LICHA YELI   \n",
            "4248               CHAKDO NYOKIR       YAYUM NYOKIR   \n",
            "...                          ...                ...   \n",
            "10754595           LANUTEMSHI AO         IMTINUNGLA   \n",
            "10754596               TALIMEREN            ASANGLA   \n",
            "10754597             SHILUYANGER             ARENLA   \n",
            "10754598        LIMAONGBA PONGEN      ASANGLA JAMIR   \n",
            "10754599       YAPANGCHIBA JAMIR  YASHILEMLA LEMTUR   \n",
            "\n",
            "                                    Name Course Duration          StateName  \\\n",
            "4244                         Electrician          2 Year  ARUNACHAL PRADESH   \n",
            "4245                         Electrician          2 Year  ARUNACHAL PRADESH   \n",
            "4246                         Electrician          2 Year  ARUNACHAL PRADESH   \n",
            "4247                 Draughtsman (Civil)          2 Year  ARUNACHAL PRADESH   \n",
            "4248                            Surveyor          1 Year  ARUNACHAL PRADESH   \n",
            "...                                  ...             ...                ...   \n",
            "10754595  Secretarial Practice (English)          1 Year           NAGALAND   \n",
            "10754596  Secretarial Practice (English)          1 Year           NAGALAND   \n",
            "10754597  Secretarial Practice (English)          1 Year           NAGALAND   \n",
            "10754598  Secretarial Practice (English)          1 Year           NAGALAND   \n",
            "10754599  Secretarial Practice (English)          1 Year           NAGALAND   \n",
            "\n",
            "         DistrictName Category Qualification Education Stream  \\\n",
            "4244       PAPUM PARE       ST          10th      Engineering   \n",
            "4245       PAPUM PARE       ST          12th      Engineering   \n",
            "4246       PAPUM PARE       ST          10th      Engineering   \n",
            "4247       PAPUM PARE       ST          10th      Engineering   \n",
            "4248       PAPUM PARE       ST          10th      Engineering   \n",
            "...               ...      ...           ...              ...   \n",
            "10754595   MOKOKCHUNG       ST          12th  Non-Engineering   \n",
            "10754596   MOKOKCHUNG       ST            BA  Non-Engineering   \n",
            "10754597   MOKOKCHUNG       ST          12th  Non-Engineering   \n",
            "10754598   MOKOKCHUNG       ST          10th  Non-Engineering   \n",
            "10754599   MOKOKCHUNG       ST            BA  Non-Engineering   \n",
            "\n",
            "                                                    Name.1 ITICategory  Year  \n",
            "4244            Govt. Industrial Training Institute, Yupia           G  2016  \n",
            "4245            Govt. Industrial Training Institute, Yupia           G  2016  \n",
            "4246            Govt. Industrial Training Institute, Yupia           G  2016  \n",
            "4247            Govt. Industrial Training Institute, Yupia           G  2016  \n",
            "4248            Govt. Industrial Training Institute, Yupia           G  2016  \n",
            "...                                                    ...         ...   ...  \n",
            "10754595  Govt.  Industrial Training Institute, Mokokchung           G  2016  \n",
            "10754596  Govt.  Industrial Training Institute, Mokokchung           G  2016  \n",
            "10754597  Govt.  Industrial Training Institute, Mokokchung           G  2016  \n",
            "10754598  Govt.  Industrial Training Institute, Mokokchung           G  2016  \n",
            "10754599  Govt.  Industrial Training Institute, Mokokchung           G  2016  \n",
            "\n",
            "[1166716 rows x 15 columns]\n"
          ]
        }
      ]
    },
    {
      "cell_type": "code",
      "source": [],
      "metadata": {
        "id": "CVzbawB6jS39"
      },
      "execution_count": null,
      "outputs": []
    },
    {
      "source": [
        "import pandas as pd\n",
        "\n",
        "df_2022 = year_dfs['2022']\n",
        "# Assuming your DataFrame is named 'df' and has a column named 'District'\n",
        "district_school_counts = df_2022.groupby('DistrictName')['Name.1'].nunique()\n",
        "\n",
        "# Print the district-wise school counts\n",
        "print(district_school_counts)"
      ],
      "cell_type": "code",
      "metadata": {
        "colab": {
          "base_uri": "https://localhost:8080/"
        },
        "id": "8rl-2jLjj2L_",
        "outputId": "4fcb83e0-59cb-4cdf-bb26-7b6625ac5df1"
      },
      "execution_count": null,
      "outputs": [
        {
          "output_type": "stream",
          "name": "stdout",
          "text": [
            "DistrictName\n",
            "24 PARAGANAS NORTH     23\n",
            "24 PARAGANAS SOUTH     20\n",
            "ADILABAD                4\n",
            "AGAR MALWA              3\n",
            "AGRA                  116\n",
            "                     ... \n",
            "YAMUNANAGAR            11\n",
            "YANAM                   1\n",
            "YAVATMAL               21\n",
            "YSR KADAPA             32\n",
            "ZUNHEBOTO               1\n",
            "Name: Name.1, Length: 689, dtype: int64\n"
          ]
        }
      ]
    },
    {
      "source": [
        "import pandas as pd\n",
        "\n",
        "# Assuming your DataFrame is named 'df' and has a column named 'DistrictName'\n",
        "filtered_df = df[df['DistrictName'] == \"24 PARAGANAS NORTH\"]\n",
        "\n",
        "# Print the filtered DataFrame\n",
        "print(filtered_df)"
      ],
      "cell_type": "code",
      "metadata": {
        "colab": {
          "base_uri": "https://localhost:8080/"
        },
        "id": "lIWxLMwvoiHO",
        "outputId": "f3df706d-e676-4f54-df28-3c983ef6000b"
      },
      "execution_count": null,
      "outputs": [
        {
          "output_type": "stream",
          "name": "stdout",
          "text": [
            "        pkTraineeRegNumber    TraineeFirstName Gender     FatherGuardianName  \\\n",
            "7042913      R140819008435        SUSHMITA SUR      F               AJIT SUR   \n",
            "7042914      R140819008434      TANUSREE BANIK      F            DILIP BANIK   \n",
            "7042915      R140819008433         PIYALI SAHA      F          PARITOSH SAHA   \n",
            "7042916      R140819008432          SUKLA SAHA      F            PRATAP SAHA   \n",
            "7042917      R140819008431       UTPALA MONDAL      F         JAYANTA MONDAL   \n",
            "...                    ...                 ...    ...                    ...   \n",
            "7280631      R160819000185      BAPPA MAJUMDER      M       SHYAMAL MAJUMDER   \n",
            "7280632      R160819000184       ANIT MAJUMDAR      M         ASHIM MAJUMDAR   \n",
            "7280633      R160819000183  BAPPA KANGSA BANIK      M  GURUPADA KANGSA BANIK   \n",
            "7280634      R160819000182    KUNTAL CHOWDHURY      M      KANCHAN CHOWDHURY   \n",
            "7280635      R160819000181        JISHU CHANDA      M           MITHU CHANDA   \n",
            "\n",
            "                 MotherName                            Name Course Duration  \\\n",
            "7042913          PUSHPA SUR  Secretarial Practice (English)          1 Year   \n",
            "7042914       MADHABI BANIK  Secretarial Practice (English)          1 Year   \n",
            "7042915          PUTUL SAHA  Secretarial Practice (English)          1 Year   \n",
            "7042916         SHIKHA SAHA  Secretarial Practice (English)          1 Year   \n",
            "7042917         MINA MONDAL  Secretarial Practice (English)          1 Year   \n",
            "...                     ...                             ...             ...   \n",
            "7280631     BIJALI MAJUMDER                     Electrician          2 Year   \n",
            "7280632    BANDANA MAJUMDAR                     Electrician          2 Year   \n",
            "7280633  PUTUL KANGSA BANIK                          Welder          1 Year   \n",
            "7280634   BHARATI CHOWDHURY                          Fitter          2 Year   \n",
            "7280635       DIPALI CHANDA                          Fitter          2 Year   \n",
            "\n",
            "           StateName        DistrictName Category Qualification  \\\n",
            "7042913  WEST BENGAL  24 PARAGANAS NORTH      GEN           nan   \n",
            "7042914  WEST BENGAL  24 PARAGANAS NORTH      GEN           nan   \n",
            "7042915  WEST BENGAL  24 PARAGANAS NORTH      GEN           nan   \n",
            "7042916  WEST BENGAL  24 PARAGANAS NORTH      GEN           nan   \n",
            "7042917  WEST BENGAL  24 PARAGANAS NORTH       SC           nan   \n",
            "...              ...                 ...      ...           ...   \n",
            "7280631  WEST BENGAL  24 PARAGANAS NORTH      GEN          10th   \n",
            "7280632  WEST BENGAL  24 PARAGANAS NORTH       SC          10th   \n",
            "7280633  WEST BENGAL  24 PARAGANAS NORTH      OBC          10th   \n",
            "7280634  WEST BENGAL  24 PARAGANAS NORTH      GEN          10th   \n",
            "7280635  WEST BENGAL  24 PARAGANAS NORTH      GEN          10th   \n",
            "\n",
            "        Education Stream                                           Name.1  \\\n",
            "7042913  Non-Engineering  Industrial Training Institute for Women Banipur   \n",
            "7042914  Non-Engineering  Industrial Training Institute for Women Banipur   \n",
            "7042915  Non-Engineering  Industrial Training Institute for Women Banipur   \n",
            "7042916  Non-Engineering  Industrial Training Institute for Women Banipur   \n",
            "7042917  Non-Engineering  Industrial Training Institute for Women Banipur   \n",
            "...                  ...                                              ...   \n",
            "7280631      Engineering                              Quivan Private ITI,   \n",
            "7280632      Engineering                              Quivan Private ITI,   \n",
            "7280633      Engineering                              Quivan Private ITI,   \n",
            "7280634      Engineering                              Quivan Private ITI,   \n",
            "7280635      Engineering                              Quivan Private ITI,   \n",
            "\n",
            "        ITICategory  Year  \n",
            "7042913           G  2014  \n",
            "7042914           G  2014  \n",
            "7042915           G  2014  \n",
            "7042916           G  2014  \n",
            "7042917           G  2014  \n",
            "...             ...   ...  \n",
            "7280631           P  2016  \n",
            "7280632           P  2016  \n",
            "7280633           P  2016  \n",
            "7280634           P  2016  \n",
            "7280635           P  2016  \n",
            "\n",
            "[18191 rows x 15 columns]\n"
          ]
        }
      ]
    },
    {
      "source": [
        "import pandas as pd\n",
        "\n",
        "df_2022 = year_dfs['2022']\n",
        "# Assuming your DataFrame is named 'df' and has a column named 'District'\n",
        "district_school_counts = df_2022.groupby('DistrictName')['Name.1'].nunique()\n",
        "\n",
        "# Print the district-wise school counts\n",
        "print(district_school_counts)\n",
        "\n",
        "# Calculate total school count\n",
        "total_schools = district_school_counts.sum()\n",
        "\n",
        "# Print the total school count\n",
        "print(\"\\nTotal Schools:\", total_schools)"
      ],
      "cell_type": "code",
      "metadata": {
        "colab": {
          "base_uri": "https://localhost:8080/"
        },
        "id": "_cD1sZZZpJMs",
        "outputId": "ab831b76-6e48-4d59-ba26-cc574dacdce1"
      },
      "execution_count": null,
      "outputs": [
        {
          "output_type": "stream",
          "name": "stdout",
          "text": [
            "DistrictName\n",
            "24 PARAGANAS NORTH     23\n",
            "24 PARAGANAS SOUTH     20\n",
            "ADILABAD                4\n",
            "AGAR MALWA              3\n",
            "AGRA                  116\n",
            "                     ... \n",
            "YAMUNANAGAR            11\n",
            "YANAM                   1\n",
            "YAVATMAL               21\n",
            "YSR KADAPA             32\n",
            "ZUNHEBOTO               1\n",
            "Name: Name.1, Length: 689, dtype: int64\n",
            "\n",
            "Total Schools: 13145\n"
          ]
        }
      ]
    },
    {
      "cell_type": "code",
      "source": [
        "print(df)"
      ],
      "metadata": {
        "colab": {
          "base_uri": "https://localhost:8080/"
        },
        "id": "bLFqOsi0j3Hl",
        "outputId": "6bb7631a-8a79-49e5-8003-af7ec67fdae0"
      },
      "execution_count": null,
      "outputs": [
        {
          "output_type": "stream",
          "name": "stdout",
          "text": [
            "         pkTraineeRegNumber  TraineeFirstName Gender FatherGuardianName  \\\n",
            "0             R140812000429     PAPU HANDIQUE      M   HORUMON HANDIQUE   \n",
            "1             R140812000428  MD SUFIYAN AHMED      M    MD NOUSAD AHMED   \n",
            "2             R140812000427         LIPU MURI      M         TAGAM MURI   \n",
            "3             R140812000426        TECHI TAGG      M        TECHI RENSO   \n",
            "4             R140812000425       SANGHA TADE      M        SANGHA TARE   \n",
            "...                     ...               ...    ...                ...   \n",
            "10754595      R160813000005        TEMSUMEREN      M      LANUTEMSHI AO   \n",
            "10754596      R160813000004          TENUSOWA      M          TALIMEREN   \n",
            "10754597      R160813000003          TIAMANEN      M        SHILUYANGER   \n",
            "10754598      R160813000002    MOALONG PONGEN      M   LIMAONGBA PONGEN   \n",
            "10754599      R160813000001   TEMSULILA JAMIR      F  YAPANGCHIBA JAMIR   \n",
            "\n",
            "                 MotherName                            Name Course Duration  \\\n",
            "0           MINATI HANDIQUE                     Electrician          2 Year   \n",
            "1                MINU BEGUM                         Wireman          2 Year   \n",
            "2                 YATE MURI  Secretarial Practice (English)          1 Year   \n",
            "3               TECHI YOKUM                     Electrician          2 Year   \n",
            "4             SANGHA YANANG                       Carpenter          1 Year   \n",
            "...                     ...                             ...             ...   \n",
            "10754595         IMTINUNGLA  Secretarial Practice (English)          1 Year   \n",
            "10754596            ASANGLA  Secretarial Practice (English)          1 Year   \n",
            "10754597             ARENLA  Secretarial Practice (English)          1 Year   \n",
            "10754598      ASANGLA JAMIR  Secretarial Practice (English)          1 Year   \n",
            "10754599  YASHILEMLA LEMTUR  Secretarial Practice (English)          1 Year   \n",
            "\n",
            "                  StateName         DistrictName Category Qualification  \\\n",
            "0         ARUNACHAL PRADESH  LOWER DIBANG VALLEY      OBC          10th   \n",
            "1         ARUNACHAL PRADESH  LOWER DIBANG VALLEY      GEN           8th   \n",
            "2         ARUNACHAL PRADESH      UPPER SUBANSIRI       ST           nan   \n",
            "3         ARUNACHAL PRADESH      UPPER SUBANSIRI       ST           nan   \n",
            "4         ARUNACHAL PRADESH  LOWER DIBANG VALLEY       ST           8th   \n",
            "...                     ...                  ...      ...           ...   \n",
            "10754595           NAGALAND           MOKOKCHUNG       ST          12th   \n",
            "10754596           NAGALAND           MOKOKCHUNG       ST            BA   \n",
            "10754597           NAGALAND           MOKOKCHUNG       ST          12th   \n",
            "10754598           NAGALAND           MOKOKCHUNG       ST          10th   \n",
            "10754599           NAGALAND           MOKOKCHUNG       ST            BA   \n",
            "\n",
            "         Education Stream                                            Name.1  \\\n",
            "0             Engineering        Govt. Industrial Training Institute, Roing   \n",
            "1             Engineering        Govt. Industrial Training Institute, Roing   \n",
            "2         Non-Engineering      Govt Industrial Training Institute, Tabarijo   \n",
            "3             Engineering      Govt Industrial Training Institute, Tabarijo   \n",
            "4             Engineering        Govt. Industrial Training Institute, Roing   \n",
            "...                   ...                                               ...   \n",
            "10754595  Non-Engineering  Govt.  Industrial Training Institute, Mokokchung   \n",
            "10754596  Non-Engineering  Govt.  Industrial Training Institute, Mokokchung   \n",
            "10754597  Non-Engineering  Govt.  Industrial Training Institute, Mokokchung   \n",
            "10754598  Non-Engineering  Govt.  Industrial Training Institute, Mokokchung   \n",
            "10754599  Non-Engineering  Govt.  Industrial Training Institute, Mokokchung   \n",
            "\n",
            "         ITICategory  Year  \n",
            "0                  G  2014  \n",
            "1                  G  2014  \n",
            "2                  G  2014  \n",
            "3                  G  2014  \n",
            "4                  G  2014  \n",
            "...              ...   ...  \n",
            "10754595           G  2016  \n",
            "10754596           G  2016  \n",
            "10754597           G  2016  \n",
            "10754598           G  2016  \n",
            "10754599           G  2016  \n",
            "\n",
            "[10754600 rows x 15 columns]\n"
          ]
        }
      ]
    },
    {
      "source": [
        "# Rename the column 'old_column_name' to 'new_column_name'\n",
        "df = df.rename(columns={'Name.1': 'ITIName'})"
      ],
      "cell_type": "code",
      "metadata": {
        "id": "iqTr5JHcrU0Z"
      },
      "execution_count": null,
      "outputs": []
    },
    {
      "cell_type": "code",
      "source": [
        "print(df)"
      ],
      "metadata": {
        "colab": {
          "base_uri": "https://localhost:8080/"
        },
        "id": "lJmw77UFrIs9",
        "outputId": "5f0438d6-6ca9-431c-82ea-9abf61f301d8"
      },
      "execution_count": null,
      "outputs": [
        {
          "output_type": "stream",
          "name": "stdout",
          "text": [
            "         pkTraineeRegNumber  TraineeFirstName Gender FatherGuardianName  \\\n",
            "0             R140812000429     PAPU HANDIQUE      M   HORUMON HANDIQUE   \n",
            "1             R140812000428  MD SUFIYAN AHMED      M    MD NOUSAD AHMED   \n",
            "2             R140812000427         LIPU MURI      M         TAGAM MURI   \n",
            "3             R140812000426        TECHI TAGG      M        TECHI RENSO   \n",
            "4             R140812000425       SANGHA TADE      M        SANGHA TARE   \n",
            "...                     ...               ...    ...                ...   \n",
            "10754595      R160813000005        TEMSUMEREN      M      LANUTEMSHI AO   \n",
            "10754596      R160813000004          TENUSOWA      M          TALIMEREN   \n",
            "10754597      R160813000003          TIAMANEN      M        SHILUYANGER   \n",
            "10754598      R160813000002    MOALONG PONGEN      M   LIMAONGBA PONGEN   \n",
            "10754599      R160813000001   TEMSULILA JAMIR      F  YAPANGCHIBA JAMIR   \n",
            "\n",
            "                 MotherName                      CourseName CourseDuration  \\\n",
            "0           MINATI HANDIQUE                     Electrician         2 Year   \n",
            "1                MINU BEGUM                         Wireman         2 Year   \n",
            "2                 YATE MURI  Secretarial Practice (English)         1 Year   \n",
            "3               TECHI YOKUM                     Electrician         2 Year   \n",
            "4             SANGHA YANANG                       Carpenter         1 Year   \n",
            "...                     ...                             ...            ...   \n",
            "10754595         IMTINUNGLA  Secretarial Practice (English)         1 Year   \n",
            "10754596            ASANGLA  Secretarial Practice (English)         1 Year   \n",
            "10754597             ARENLA  Secretarial Practice (English)         1 Year   \n",
            "10754598      ASANGLA JAMIR  Secretarial Practice (English)         1 Year   \n",
            "10754599  YASHILEMLA LEMTUR  Secretarial Practice (English)         1 Year   \n",
            "\n",
            "                  StateName         DistrictName Category Qualification  \\\n",
            "0         ARUNACHAL PRADESH  LOWER DIBANG VALLEY      OBC          10th   \n",
            "1         ARUNACHAL PRADESH  LOWER DIBANG VALLEY      GEN           8th   \n",
            "2         ARUNACHAL PRADESH      UPPER SUBANSIRI       ST           nan   \n",
            "3         ARUNACHAL PRADESH      UPPER SUBANSIRI       ST           nan   \n",
            "4         ARUNACHAL PRADESH  LOWER DIBANG VALLEY       ST           8th   \n",
            "...                     ...                  ...      ...           ...   \n",
            "10754595           NAGALAND           MOKOKCHUNG       ST          12th   \n",
            "10754596           NAGALAND           MOKOKCHUNG       ST            BA   \n",
            "10754597           NAGALAND           MOKOKCHUNG       ST          12th   \n",
            "10754598           NAGALAND           MOKOKCHUNG       ST          10th   \n",
            "10754599           NAGALAND           MOKOKCHUNG       ST            BA   \n",
            "\n",
            "          EducationStream                                           ITIName  \\\n",
            "0             Engineering        Govt. Industrial Training Institute, Roing   \n",
            "1             Engineering        Govt. Industrial Training Institute, Roing   \n",
            "2         Non-Engineering      Govt Industrial Training Institute, Tabarijo   \n",
            "3             Engineering      Govt Industrial Training Institute, Tabarijo   \n",
            "4             Engineering        Govt. Industrial Training Institute, Roing   \n",
            "...                   ...                                               ...   \n",
            "10754595  Non-Engineering  Govt.  Industrial Training Institute, Mokokchung   \n",
            "10754596  Non-Engineering  Govt.  Industrial Training Institute, Mokokchung   \n",
            "10754597  Non-Engineering  Govt.  Industrial Training Institute, Mokokchung   \n",
            "10754598  Non-Engineering  Govt.  Industrial Training Institute, Mokokchung   \n",
            "10754599  Non-Engineering  Govt.  Industrial Training Institute, Mokokchung   \n",
            "\n",
            "         ITICategory  Year  \n",
            "0                  G  2014  \n",
            "1                  G  2014  \n",
            "2                  G  2014  \n",
            "3                  G  2014  \n",
            "4                  G  2014  \n",
            "...              ...   ...  \n",
            "10754595           G  2016  \n",
            "10754596           G  2016  \n",
            "10754597           G  2016  \n",
            "10754598           G  2016  \n",
            "10754599           G  2016  \n",
            "\n",
            "[10754600 rows x 15 columns]\n"
          ]
        }
      ]
    },
    {
      "cell_type": "code",
      "source": [
        "df.to_csv('ITI_Data.csv', index=False)"
      ],
      "metadata": {
        "id": "UeOlt0HEsPrf"
      },
      "execution_count": null,
      "outputs": []
    },
    {
      "source": [
        "df1 = df[['pkTraineeRegNumber', 'DistrictName', 'ITIName', 'CourseName', 'Year']]\n",
        "print(df1)"
      ],
      "cell_type": "code",
      "metadata": {
        "colab": {
          "base_uri": "https://localhost:8080/"
        },
        "id": "n-FuKOMwvJC-",
        "outputId": "e7c82829-85d5-4366-bfe5-b6e74214a8e1"
      },
      "execution_count": null,
      "outputs": [
        {
          "output_type": "stream",
          "name": "stdout",
          "text": [
            "         pkTraineeRegNumber         DistrictName  \\\n",
            "0             R140812000429  LOWER DIBANG VALLEY   \n",
            "1             R140812000428  LOWER DIBANG VALLEY   \n",
            "2             R140812000427      UPPER SUBANSIRI   \n",
            "3             R140812000426      UPPER SUBANSIRI   \n",
            "4             R140812000425  LOWER DIBANG VALLEY   \n",
            "...                     ...                  ...   \n",
            "10754595      R160813000005           MOKOKCHUNG   \n",
            "10754596      R160813000004           MOKOKCHUNG   \n",
            "10754597      R160813000003           MOKOKCHUNG   \n",
            "10754598      R160813000002           MOKOKCHUNG   \n",
            "10754599      R160813000001           MOKOKCHUNG   \n",
            "\n",
            "                                                   ITIName  \\\n",
            "0               Govt. Industrial Training Institute, Roing   \n",
            "1               Govt. Industrial Training Institute, Roing   \n",
            "2             Govt Industrial Training Institute, Tabarijo   \n",
            "3             Govt Industrial Training Institute, Tabarijo   \n",
            "4               Govt. Industrial Training Institute, Roing   \n",
            "...                                                    ...   \n",
            "10754595  Govt.  Industrial Training Institute, Mokokchung   \n",
            "10754596  Govt.  Industrial Training Institute, Mokokchung   \n",
            "10754597  Govt.  Industrial Training Institute, Mokokchung   \n",
            "10754598  Govt.  Industrial Training Institute, Mokokchung   \n",
            "10754599  Govt.  Industrial Training Institute, Mokokchung   \n",
            "\n",
            "                              CourseName  Year  \n",
            "0                            Electrician  2014  \n",
            "1                                Wireman  2014  \n",
            "2         Secretarial Practice (English)  2014  \n",
            "3                            Electrician  2014  \n",
            "4                              Carpenter  2014  \n",
            "...                                  ...   ...  \n",
            "10754595  Secretarial Practice (English)  2016  \n",
            "10754596  Secretarial Practice (English)  2016  \n",
            "10754597  Secretarial Practice (English)  2016  \n",
            "10754598  Secretarial Practice (English)  2016  \n",
            "10754599  Secretarial Practice (English)  2016  \n",
            "\n",
            "[10754600 rows x 5 columns]\n"
          ]
        }
      ]
    },
    {
      "cell_type": "code",
      "source": [
        "df1.to_csv('ITI_Data_Compressed.csv', index=False)"
      ],
      "metadata": {
        "id": "yPUkAY9ErhJn"
      },
      "execution_count": null,
      "outputs": []
    },
    {
      "cell_type": "code",
      "source": [
        "df1.to_parquet('ITI_Data_Compressed.parquet', index=False)"
      ],
      "metadata": {
        "id": "vtz7JVhIvRzV"
      },
      "execution_count": null,
      "outputs": []
    },
    {
      "cell_type": "code",
      "source": [],
      "metadata": {
        "id": "lytsznJR3wvP"
      },
      "execution_count": null,
      "outputs": []
    },
    {
      "source": [
        "unique_count = df['pkTraineeRegNumber'].nunique()\n",
        "print(f\"Number of unique pkTraineeRegNumber values: {unique_count}\")"
      ],
      "cell_type": "code",
      "metadata": {
        "colab": {
          "base_uri": "https://localhost:8080/"
        },
        "id": "GsyfanKt4lM1",
        "outputId": "d69ef407-018a-4846-8837-be44050f0979"
      },
      "execution_count": null,
      "outputs": [
        {
          "output_type": "stream",
          "name": "stdout",
          "text": [
            "Number of unique pkTraineeRegNumber values: 10743994\n"
          ]
        }
      ]
    },
    {
      "cell_type": "code",
      "source": [],
      "metadata": {
        "id": "0J0qB0X64l66"
      },
      "execution_count": null,
      "outputs": []
    },
    {
      "source": [
        "duplicates = df[df.duplicated(subset=['pkTraineeRegNumber'], keep=False)]\n",
        "print(duplicates['pkTraineeRegNumber'])"
      ],
      "cell_type": "code",
      "metadata": {
        "colab": {
          "base_uri": "https://localhost:8080/"
        },
        "id": "enTVMK0e434Q",
        "outputId": "32857cc9-b94b-4765-dfab-4726b7e6a6e8"
      },
      "execution_count": null,
      "outputs": [
        {
          "output_type": "stream",
          "name": "stdout",
          "text": [
            "5849        R140801001313\n",
            "5850        R140801001313\n",
            "6849        R140801000268\n",
            "6850        R140801000268\n",
            "7118        R220801002048\n",
            "                ...      \n",
            "10751229    R160820019028\n",
            "10751230    R160820023074\n",
            "10752229    R160820022066\n",
            "10752230    R160820024074\n",
            "10753229    R160820023074\n",
            "Name: pkTraineeRegNumber, Length: 21212, dtype: object\n"
          ]
        }
      ]
    },
    {
      "cell_type": "code",
      "source": [],
      "metadata": {
        "id": "t8RTwdQj44qT"
      },
      "execution_count": null,
      "outputs": []
    },
    {
      "source": [
        "df_new = df.drop_duplicates(subset=['pkTraineeRegNumber'], keep='first')\n",
        "print(df_new)"
      ],
      "cell_type": "code",
      "metadata": {
        "colab": {
          "base_uri": "https://localhost:8080/"
        },
        "id": "RU46iA7H5nsv",
        "outputId": "d24d4752-6426-402c-83fb-cdd06bf6ba97"
      },
      "execution_count": null,
      "outputs": [
        {
          "output_type": "stream",
          "name": "stdout",
          "text": [
            "         pkTraineeRegNumber  TraineeFirstName Gender FatherGuardianName  \\\n",
            "0             R140812000429     PAPU HANDIQUE      M   HORUMON HANDIQUE   \n",
            "1             R140812000428  MD SUFIYAN AHMED      M    MD NOUSAD AHMED   \n",
            "2             R140812000427         LIPU MURI      M         TAGAM MURI   \n",
            "3             R140812000426        TECHI TAGG      M        TECHI RENSO   \n",
            "4             R140812000425       SANGHA TADE      M        SANGHA TARE   \n",
            "...                     ...               ...    ...                ...   \n",
            "10754595      R160813000005        TEMSUMEREN      M      LANUTEMSHI AO   \n",
            "10754596      R160813000004          TENUSOWA      M          TALIMEREN   \n",
            "10754597      R160813000003          TIAMANEN      M        SHILUYANGER   \n",
            "10754598      R160813000002    MOALONG PONGEN      M   LIMAONGBA PONGEN   \n",
            "10754599      R160813000001   TEMSULILA JAMIR      F  YAPANGCHIBA JAMIR   \n",
            "\n",
            "                 MotherName                      CourseName CourseDuration  \\\n",
            "0           MINATI HANDIQUE                     Electrician         2 Year   \n",
            "1                MINU BEGUM                         Wireman         2 Year   \n",
            "2                 YATE MURI  Secretarial Practice (English)         1 Year   \n",
            "3               TECHI YOKUM                     Electrician         2 Year   \n",
            "4             SANGHA YANANG                       Carpenter         1 Year   \n",
            "...                     ...                             ...            ...   \n",
            "10754595         IMTINUNGLA  Secretarial Practice (English)         1 Year   \n",
            "10754596            ASANGLA  Secretarial Practice (English)         1 Year   \n",
            "10754597             ARENLA  Secretarial Practice (English)         1 Year   \n",
            "10754598      ASANGLA JAMIR  Secretarial Practice (English)         1 Year   \n",
            "10754599  YASHILEMLA LEMTUR  Secretarial Practice (English)         1 Year   \n",
            "\n",
            "                  StateName         DistrictName Category Qualification  \\\n",
            "0         ARUNACHAL PRADESH  LOWER DIBANG VALLEY      OBC          10th   \n",
            "1         ARUNACHAL PRADESH  LOWER DIBANG VALLEY      GEN           8th   \n",
            "2         ARUNACHAL PRADESH      UPPER SUBANSIRI       ST           nan   \n",
            "3         ARUNACHAL PRADESH      UPPER SUBANSIRI       ST           nan   \n",
            "4         ARUNACHAL PRADESH  LOWER DIBANG VALLEY       ST           8th   \n",
            "...                     ...                  ...      ...           ...   \n",
            "10754595           NAGALAND           MOKOKCHUNG       ST          12th   \n",
            "10754596           NAGALAND           MOKOKCHUNG       ST            BA   \n",
            "10754597           NAGALAND           MOKOKCHUNG       ST          12th   \n",
            "10754598           NAGALAND           MOKOKCHUNG       ST          10th   \n",
            "10754599           NAGALAND           MOKOKCHUNG       ST            BA   \n",
            "\n",
            "          EducationStream                                           ITIName  \\\n",
            "0             Engineering        Govt. Industrial Training Institute, Roing   \n",
            "1             Engineering        Govt. Industrial Training Institute, Roing   \n",
            "2         Non-Engineering      Govt Industrial Training Institute, Tabarijo   \n",
            "3             Engineering      Govt Industrial Training Institute, Tabarijo   \n",
            "4             Engineering        Govt. Industrial Training Institute, Roing   \n",
            "...                   ...                                               ...   \n",
            "10754595  Non-Engineering  Govt.  Industrial Training Institute, Mokokchung   \n",
            "10754596  Non-Engineering  Govt.  Industrial Training Institute, Mokokchung   \n",
            "10754597  Non-Engineering  Govt.  Industrial Training Institute, Mokokchung   \n",
            "10754598  Non-Engineering  Govt.  Industrial Training Institute, Mokokchung   \n",
            "10754599  Non-Engineering  Govt.  Industrial Training Institute, Mokokchung   \n",
            "\n",
            "         ITICategory  Year  \n",
            "0                  G  2014  \n",
            "1                  G  2014  \n",
            "2                  G  2014  \n",
            "3                  G  2014  \n",
            "4                  G  2014  \n",
            "...              ...   ...  \n",
            "10754595           G  2016  \n",
            "10754596           G  2016  \n",
            "10754597           G  2016  \n",
            "10754598           G  2016  \n",
            "10754599           G  2016  \n",
            "\n",
            "[10743994 rows x 15 columns]\n"
          ]
        }
      ]
    },
    {
      "cell_type": "code",
      "source": [
        "df_new.to_csv('ITI_Data.csv', index=False)"
      ],
      "metadata": {
        "id": "AsfXdYvR5oeD"
      },
      "execution_count": null,
      "outputs": []
    },
    {
      "cell_type": "code",
      "source": [
        "df1_new = df_new[['pkTraineeRegNumber', 'DistrictName', 'ITIName', 'CourseName', 'Year']]\n",
        "print(df1_new)"
      ],
      "metadata": {
        "colab": {
          "base_uri": "https://localhost:8080/"
        },
        "id": "YQwtDy556BAa",
        "outputId": "5ef5f265-4357-4d2d-8bb7-6f182c86a977"
      },
      "execution_count": null,
      "outputs": [
        {
          "output_type": "stream",
          "name": "stdout",
          "text": [
            "         pkTraineeRegNumber         DistrictName  \\\n",
            "0             R140812000429  LOWER DIBANG VALLEY   \n",
            "1             R140812000428  LOWER DIBANG VALLEY   \n",
            "2             R140812000427      UPPER SUBANSIRI   \n",
            "3             R140812000426      UPPER SUBANSIRI   \n",
            "4             R140812000425  LOWER DIBANG VALLEY   \n",
            "...                     ...                  ...   \n",
            "10754595      R160813000005           MOKOKCHUNG   \n",
            "10754596      R160813000004           MOKOKCHUNG   \n",
            "10754597      R160813000003           MOKOKCHUNG   \n",
            "10754598      R160813000002           MOKOKCHUNG   \n",
            "10754599      R160813000001           MOKOKCHUNG   \n",
            "\n",
            "                                                   ITIName  \\\n",
            "0               Govt. Industrial Training Institute, Roing   \n",
            "1               Govt. Industrial Training Institute, Roing   \n",
            "2             Govt Industrial Training Institute, Tabarijo   \n",
            "3             Govt Industrial Training Institute, Tabarijo   \n",
            "4               Govt. Industrial Training Institute, Roing   \n",
            "...                                                    ...   \n",
            "10754595  Govt.  Industrial Training Institute, Mokokchung   \n",
            "10754596  Govt.  Industrial Training Institute, Mokokchung   \n",
            "10754597  Govt.  Industrial Training Institute, Mokokchung   \n",
            "10754598  Govt.  Industrial Training Institute, Mokokchung   \n",
            "10754599  Govt.  Industrial Training Institute, Mokokchung   \n",
            "\n",
            "                              CourseName  Year  \n",
            "0                            Electrician  2014  \n",
            "1                                Wireman  2014  \n",
            "2         Secretarial Practice (English)  2014  \n",
            "3                            Electrician  2014  \n",
            "4                              Carpenter  2014  \n",
            "...                                  ...   ...  \n",
            "10754595  Secretarial Practice (English)  2016  \n",
            "10754596  Secretarial Practice (English)  2016  \n",
            "10754597  Secretarial Practice (English)  2016  \n",
            "10754598  Secretarial Practice (English)  2016  \n",
            "10754599  Secretarial Practice (English)  2016  \n",
            "\n",
            "[10743994 rows x 5 columns]\n"
          ]
        }
      ]
    },
    {
      "cell_type": "code",
      "source": [
        "df1_new.to_csv('ITI_Data_compressed.csv', index=False)"
      ],
      "metadata": {
        "id": "pUQM2eNE6PhN"
      },
      "execution_count": null,
      "outputs": []
    },
    {
      "cell_type": "code",
      "source": [
        "import pandas as pd\n",
        "df = pd.read_csv('ITI_Data.csv')\n",
        "print(df)"
      ],
      "metadata": {
        "id": "PQDYheI660Hw",
        "colab": {
          "base_uri": "https://localhost:8080/"
        },
        "outputId": "8764bf9f-d866-4566-8e91-dff84bb9df4f"
      },
      "execution_count": null,
      "outputs": [
        {
          "output_type": "stream",
          "name": "stdout",
          "text": [
            "         pkTraineeRegNumber  TraineeFirstName Gender FatherGuardianName  \\\n",
            "0             R140812000429     PAPU HANDIQUE      M   HORUMON HANDIQUE   \n",
            "1             R140812000428  MD SUFIYAN AHMED      M    MD NOUSAD AHMED   \n",
            "2             R140812000427         LIPU MURI      M         TAGAM MURI   \n",
            "3             R140812000426        TECHI TAGG      M        TECHI RENSO   \n",
            "4             R140812000425       SANGHA TADE      M        SANGHA TARE   \n",
            "...                     ...               ...    ...                ...   \n",
            "10743989      R160813000005        TEMSUMEREN      M      LANUTEMSHI AO   \n",
            "10743990      R160813000004          TENUSOWA      M          TALIMEREN   \n",
            "10743991      R160813000003          TIAMANEN      M        SHILUYANGER   \n",
            "10743992      R160813000002    MOALONG PONGEN      M   LIMAONGBA PONGEN   \n",
            "10743993      R160813000001   TEMSULILA JAMIR      F  YAPANGCHIBA JAMIR   \n",
            "\n",
            "                 MotherName                      CourseName CourseDuration  \\\n",
            "0           MINATI HANDIQUE                     Electrician         2 Year   \n",
            "1                MINU BEGUM                         Wireman         2 Year   \n",
            "2                 YATE MURI  Secretarial Practice (English)         1 Year   \n",
            "3               TECHI YOKUM                     Electrician         2 Year   \n",
            "4             SANGHA YANANG                       Carpenter         1 Year   \n",
            "...                     ...                             ...            ...   \n",
            "10743989         IMTINUNGLA  Secretarial Practice (English)         1 Year   \n",
            "10743990            ASANGLA  Secretarial Practice (English)         1 Year   \n",
            "10743991             ARENLA  Secretarial Practice (English)         1 Year   \n",
            "10743992      ASANGLA JAMIR  Secretarial Practice (English)         1 Year   \n",
            "10743993  YASHILEMLA LEMTUR  Secretarial Practice (English)         1 Year   \n",
            "\n",
            "                  StateName         DistrictName Category Qualification  \\\n",
            "0         ARUNACHAL PRADESH  LOWER DIBANG VALLEY      OBC          10th   \n",
            "1         ARUNACHAL PRADESH  LOWER DIBANG VALLEY      GEN           8th   \n",
            "2         ARUNACHAL PRADESH      UPPER SUBANSIRI       ST           NaN   \n",
            "3         ARUNACHAL PRADESH      UPPER SUBANSIRI       ST           NaN   \n",
            "4         ARUNACHAL PRADESH  LOWER DIBANG VALLEY       ST           8th   \n",
            "...                     ...                  ...      ...           ...   \n",
            "10743989           NAGALAND           MOKOKCHUNG       ST          12th   \n",
            "10743990           NAGALAND           MOKOKCHUNG       ST            BA   \n",
            "10743991           NAGALAND           MOKOKCHUNG       ST          12th   \n",
            "10743992           NAGALAND           MOKOKCHUNG       ST          10th   \n",
            "10743993           NAGALAND           MOKOKCHUNG       ST            BA   \n",
            "\n",
            "          EducationStream                                           ITIName  \\\n",
            "0             Engineering        Govt. Industrial Training Institute, Roing   \n",
            "1             Engineering        Govt. Industrial Training Institute, Roing   \n",
            "2         Non-Engineering      Govt Industrial Training Institute, Tabarijo   \n",
            "3             Engineering      Govt Industrial Training Institute, Tabarijo   \n",
            "4             Engineering        Govt. Industrial Training Institute, Roing   \n",
            "...                   ...                                               ...   \n",
            "10743989  Non-Engineering  Govt.  Industrial Training Institute, Mokokchung   \n",
            "10743990  Non-Engineering  Govt.  Industrial Training Institute, Mokokchung   \n",
            "10743991  Non-Engineering  Govt.  Industrial Training Institute, Mokokchung   \n",
            "10743992  Non-Engineering  Govt.  Industrial Training Institute, Mokokchung   \n",
            "10743993  Non-Engineering  Govt.  Industrial Training Institute, Mokokchung   \n",
            "\n",
            "         ITICategory    Year  \n",
            "0                  G  2014.0  \n",
            "1                  G  2014.0  \n",
            "2                  G  2014.0  \n",
            "3                  G  2014.0  \n",
            "4                  G  2014.0  \n",
            "...              ...     ...  \n",
            "10743989           G  2016.0  \n",
            "10743990           G  2016.0  \n",
            "10743991           G  2016.0  \n",
            "10743992           G  2016.0  \n",
            "10743993           G  2016.0  \n",
            "\n",
            "[10743994 rows x 15 columns]\n"
          ]
        }
      ]
    },
    {
      "cell_type": "code",
      "source": [
        "df1_new = df[['pkTraineeRegNumber','StateName', 'DistrictName', 'ITIName', 'CourseName', 'Year']]\n",
        "print(df1_new)"
      ],
      "metadata": {
        "colab": {
          "base_uri": "https://localhost:8080/"
        },
        "id": "EdttU6tafeMm",
        "outputId": "ace6886d-53bc-461e-809a-2a7e07cfe72c"
      },
      "execution_count": null,
      "outputs": [
        {
          "output_type": "stream",
          "name": "stdout",
          "text": [
            "         pkTraineeRegNumber          StateName         DistrictName  \\\n",
            "0             R140812000429  ARUNACHAL PRADESH  LOWER DIBANG VALLEY   \n",
            "1             R140812000428  ARUNACHAL PRADESH  LOWER DIBANG VALLEY   \n",
            "2             R140812000427  ARUNACHAL PRADESH      UPPER SUBANSIRI   \n",
            "3             R140812000426  ARUNACHAL PRADESH      UPPER SUBANSIRI   \n",
            "4             R140812000425  ARUNACHAL PRADESH  LOWER DIBANG VALLEY   \n",
            "...                     ...                ...                  ...   \n",
            "10743989      R160813000005           NAGALAND           MOKOKCHUNG   \n",
            "10743990      R160813000004           NAGALAND           MOKOKCHUNG   \n",
            "10743991      R160813000003           NAGALAND           MOKOKCHUNG   \n",
            "10743992      R160813000002           NAGALAND           MOKOKCHUNG   \n",
            "10743993      R160813000001           NAGALAND           MOKOKCHUNG   \n",
            "\n",
            "                                                   ITIName  \\\n",
            "0               Govt. Industrial Training Institute, Roing   \n",
            "1               Govt. Industrial Training Institute, Roing   \n",
            "2             Govt Industrial Training Institute, Tabarijo   \n",
            "3             Govt Industrial Training Institute, Tabarijo   \n",
            "4               Govt. Industrial Training Institute, Roing   \n",
            "...                                                    ...   \n",
            "10743989  Govt.  Industrial Training Institute, Mokokchung   \n",
            "10743990  Govt.  Industrial Training Institute, Mokokchung   \n",
            "10743991  Govt.  Industrial Training Institute, Mokokchung   \n",
            "10743992  Govt.  Industrial Training Institute, Mokokchung   \n",
            "10743993  Govt.  Industrial Training Institute, Mokokchung   \n",
            "\n",
            "                              CourseName  Year  \n",
            "0                            Electrician  2014  \n",
            "1                                Wireman  2014  \n",
            "2         Secretarial Practice (English)  2014  \n",
            "3                            Electrician  2014  \n",
            "4                              Carpenter  2014  \n",
            "...                                  ...   ...  \n",
            "10743989  Secretarial Practice (English)  2016  \n",
            "10743990  Secretarial Practice (English)  2016  \n",
            "10743991  Secretarial Practice (English)  2016  \n",
            "10743992  Secretarial Practice (English)  2016  \n",
            "10743993  Secretarial Practice (English)  2016  \n",
            "\n",
            "[10743994 rows x 6 columns]\n"
          ]
        }
      ]
    },
    {
      "source": [
        "import pandas as pd\n",
        "\n",
        "# Assuming your DataFrame is named 'df'\n",
        "\n",
        "# Convert the 'Year' column to integer\n",
        "df['Year'] = df['Year'].astype(int)\n",
        "\n",
        "# Print the DataFrame to verify the changes\n",
        "print(df)"
      ],
      "cell_type": "code",
      "metadata": {
        "colab": {
          "base_uri": "https://localhost:8080/",
          "height": 401
        },
        "id": "dzaakKAAk-Ya",
        "outputId": "f64c70c6-d57f-4379-92a7-a7f21d6752ed"
      },
      "execution_count": null,
      "outputs": [
        {
          "output_type": "error",
          "ename": "IntCastingNaNError",
          "evalue": "Cannot convert non-finite values (NA or inf) to integer",
          "traceback": [
            "\u001b[0;31m---------------------------------------------------------------------------\u001b[0m",
            "\u001b[0;31mIntCastingNaNError\u001b[0m                        Traceback (most recent call last)",
            "\u001b[0;32m<ipython-input-5-06c16181ea07>\u001b[0m in \u001b[0;36m<cell line: 6>\u001b[0;34m()\u001b[0m\n\u001b[1;32m      4\u001b[0m \u001b[0;34m\u001b[0m\u001b[0m\n\u001b[1;32m      5\u001b[0m \u001b[0;31m# Convert the 'Year' column to integer\u001b[0m\u001b[0;34m\u001b[0m\u001b[0;34m\u001b[0m\u001b[0m\n\u001b[0;32m----> 6\u001b[0;31m \u001b[0mdf\u001b[0m\u001b[0;34m[\u001b[0m\u001b[0;34m'Year'\u001b[0m\u001b[0;34m]\u001b[0m \u001b[0;34m=\u001b[0m \u001b[0mdf\u001b[0m\u001b[0;34m[\u001b[0m\u001b[0;34m'Year'\u001b[0m\u001b[0;34m]\u001b[0m\u001b[0;34m.\u001b[0m\u001b[0mastype\u001b[0m\u001b[0;34m(\u001b[0m\u001b[0mint\u001b[0m\u001b[0;34m)\u001b[0m\u001b[0;34m\u001b[0m\u001b[0;34m\u001b[0m\u001b[0m\n\u001b[0m\u001b[1;32m      7\u001b[0m \u001b[0;34m\u001b[0m\u001b[0m\n\u001b[1;32m      8\u001b[0m \u001b[0;31m# Print the DataFrame to verify the changes\u001b[0m\u001b[0;34m\u001b[0m\u001b[0;34m\u001b[0m\u001b[0m\n",
            "\u001b[0;32m/usr/local/lib/python3.10/dist-packages/pandas/core/generic.py\u001b[0m in \u001b[0;36mastype\u001b[0;34m(self, dtype, copy, errors)\u001b[0m\n\u001b[1;32m   6641\u001b[0m         \u001b[0;32melse\u001b[0m\u001b[0;34m:\u001b[0m\u001b[0;34m\u001b[0m\u001b[0;34m\u001b[0m\u001b[0m\n\u001b[1;32m   6642\u001b[0m             \u001b[0;31m# else, only a single dtype is given\u001b[0m\u001b[0;34m\u001b[0m\u001b[0;34m\u001b[0m\u001b[0m\n\u001b[0;32m-> 6643\u001b[0;31m             \u001b[0mnew_data\u001b[0m \u001b[0;34m=\u001b[0m \u001b[0mself\u001b[0m\u001b[0;34m.\u001b[0m\u001b[0m_mgr\u001b[0m\u001b[0;34m.\u001b[0m\u001b[0mastype\u001b[0m\u001b[0;34m(\u001b[0m\u001b[0mdtype\u001b[0m\u001b[0;34m=\u001b[0m\u001b[0mdtype\u001b[0m\u001b[0;34m,\u001b[0m \u001b[0mcopy\u001b[0m\u001b[0;34m=\u001b[0m\u001b[0mcopy\u001b[0m\u001b[0;34m,\u001b[0m \u001b[0merrors\u001b[0m\u001b[0;34m=\u001b[0m\u001b[0merrors\u001b[0m\u001b[0;34m)\u001b[0m\u001b[0;34m\u001b[0m\u001b[0;34m\u001b[0m\u001b[0m\n\u001b[0m\u001b[1;32m   6644\u001b[0m             \u001b[0mres\u001b[0m \u001b[0;34m=\u001b[0m \u001b[0mself\u001b[0m\u001b[0;34m.\u001b[0m\u001b[0m_constructor_from_mgr\u001b[0m\u001b[0;34m(\u001b[0m\u001b[0mnew_data\u001b[0m\u001b[0;34m,\u001b[0m \u001b[0maxes\u001b[0m\u001b[0;34m=\u001b[0m\u001b[0mnew_data\u001b[0m\u001b[0;34m.\u001b[0m\u001b[0maxes\u001b[0m\u001b[0;34m)\u001b[0m\u001b[0;34m\u001b[0m\u001b[0;34m\u001b[0m\u001b[0m\n\u001b[1;32m   6645\u001b[0m             \u001b[0;32mreturn\u001b[0m \u001b[0mres\u001b[0m\u001b[0;34m.\u001b[0m\u001b[0m__finalize__\u001b[0m\u001b[0;34m(\u001b[0m\u001b[0mself\u001b[0m\u001b[0;34m,\u001b[0m \u001b[0mmethod\u001b[0m\u001b[0;34m=\u001b[0m\u001b[0;34m\"astype\"\u001b[0m\u001b[0;34m)\u001b[0m\u001b[0;34m\u001b[0m\u001b[0;34m\u001b[0m\u001b[0m\n",
            "\u001b[0;32m/usr/local/lib/python3.10/dist-packages/pandas/core/internals/managers.py\u001b[0m in \u001b[0;36mastype\u001b[0;34m(self, dtype, copy, errors)\u001b[0m\n\u001b[1;32m    428\u001b[0m             \u001b[0mcopy\u001b[0m \u001b[0;34m=\u001b[0m \u001b[0;32mFalse\u001b[0m\u001b[0;34m\u001b[0m\u001b[0;34m\u001b[0m\u001b[0m\n\u001b[1;32m    429\u001b[0m \u001b[0;34m\u001b[0m\u001b[0m\n\u001b[0;32m--> 430\u001b[0;31m         return self.apply(\n\u001b[0m\u001b[1;32m    431\u001b[0m             \u001b[0;34m\"astype\"\u001b[0m\u001b[0;34m,\u001b[0m\u001b[0;34m\u001b[0m\u001b[0;34m\u001b[0m\u001b[0m\n\u001b[1;32m    432\u001b[0m             \u001b[0mdtype\u001b[0m\u001b[0;34m=\u001b[0m\u001b[0mdtype\u001b[0m\u001b[0;34m,\u001b[0m\u001b[0;34m\u001b[0m\u001b[0;34m\u001b[0m\u001b[0m\n",
            "\u001b[0;32m/usr/local/lib/python3.10/dist-packages/pandas/core/internals/managers.py\u001b[0m in \u001b[0;36mapply\u001b[0;34m(self, f, align_keys, **kwargs)\u001b[0m\n\u001b[1;32m    361\u001b[0m                 \u001b[0mapplied\u001b[0m \u001b[0;34m=\u001b[0m \u001b[0mb\u001b[0m\u001b[0;34m.\u001b[0m\u001b[0mapply\u001b[0m\u001b[0;34m(\u001b[0m\u001b[0mf\u001b[0m\u001b[0;34m,\u001b[0m \u001b[0;34m**\u001b[0m\u001b[0mkwargs\u001b[0m\u001b[0;34m)\u001b[0m\u001b[0;34m\u001b[0m\u001b[0;34m\u001b[0m\u001b[0m\n\u001b[1;32m    362\u001b[0m             \u001b[0;32melse\u001b[0m\u001b[0;34m:\u001b[0m\u001b[0;34m\u001b[0m\u001b[0;34m\u001b[0m\u001b[0m\n\u001b[0;32m--> 363\u001b[0;31m                 \u001b[0mapplied\u001b[0m \u001b[0;34m=\u001b[0m \u001b[0mgetattr\u001b[0m\u001b[0;34m(\u001b[0m\u001b[0mb\u001b[0m\u001b[0;34m,\u001b[0m \u001b[0mf\u001b[0m\u001b[0;34m)\u001b[0m\u001b[0;34m(\u001b[0m\u001b[0;34m**\u001b[0m\u001b[0mkwargs\u001b[0m\u001b[0;34m)\u001b[0m\u001b[0;34m\u001b[0m\u001b[0;34m\u001b[0m\u001b[0m\n\u001b[0m\u001b[1;32m    364\u001b[0m             \u001b[0mresult_blocks\u001b[0m \u001b[0;34m=\u001b[0m \u001b[0mextend_blocks\u001b[0m\u001b[0;34m(\u001b[0m\u001b[0mapplied\u001b[0m\u001b[0;34m,\u001b[0m \u001b[0mresult_blocks\u001b[0m\u001b[0;34m)\u001b[0m\u001b[0;34m\u001b[0m\u001b[0;34m\u001b[0m\u001b[0m\n\u001b[1;32m    365\u001b[0m \u001b[0;34m\u001b[0m\u001b[0m\n",
            "\u001b[0;32m/usr/local/lib/python3.10/dist-packages/pandas/core/internals/blocks.py\u001b[0m in \u001b[0;36mastype\u001b[0;34m(self, dtype, copy, errors, using_cow, squeeze)\u001b[0m\n\u001b[1;32m    756\u001b[0m             \u001b[0mvalues\u001b[0m \u001b[0;34m=\u001b[0m \u001b[0mvalues\u001b[0m\u001b[0;34m[\u001b[0m\u001b[0;36m0\u001b[0m\u001b[0;34m,\u001b[0m \u001b[0;34m:\u001b[0m\u001b[0;34m]\u001b[0m  \u001b[0;31m# type: ignore[call-overload]\u001b[0m\u001b[0;34m\u001b[0m\u001b[0;34m\u001b[0m\u001b[0m\n\u001b[1;32m    757\u001b[0m \u001b[0;34m\u001b[0m\u001b[0m\n\u001b[0;32m--> 758\u001b[0;31m         \u001b[0mnew_values\u001b[0m \u001b[0;34m=\u001b[0m \u001b[0mastype_array_safe\u001b[0m\u001b[0;34m(\u001b[0m\u001b[0mvalues\u001b[0m\u001b[0;34m,\u001b[0m \u001b[0mdtype\u001b[0m\u001b[0;34m,\u001b[0m \u001b[0mcopy\u001b[0m\u001b[0;34m=\u001b[0m\u001b[0mcopy\u001b[0m\u001b[0;34m,\u001b[0m \u001b[0merrors\u001b[0m\u001b[0;34m=\u001b[0m\u001b[0merrors\u001b[0m\u001b[0;34m)\u001b[0m\u001b[0;34m\u001b[0m\u001b[0;34m\u001b[0m\u001b[0m\n\u001b[0m\u001b[1;32m    759\u001b[0m \u001b[0;34m\u001b[0m\u001b[0m\n\u001b[1;32m    760\u001b[0m         \u001b[0mnew_values\u001b[0m \u001b[0;34m=\u001b[0m \u001b[0mmaybe_coerce_values\u001b[0m\u001b[0;34m(\u001b[0m\u001b[0mnew_values\u001b[0m\u001b[0;34m)\u001b[0m\u001b[0;34m\u001b[0m\u001b[0;34m\u001b[0m\u001b[0m\n",
            "\u001b[0;32m/usr/local/lib/python3.10/dist-packages/pandas/core/dtypes/astype.py\u001b[0m in \u001b[0;36mastype_array_safe\u001b[0;34m(values, dtype, copy, errors)\u001b[0m\n\u001b[1;32m    235\u001b[0m \u001b[0;34m\u001b[0m\u001b[0m\n\u001b[1;32m    236\u001b[0m     \u001b[0;32mtry\u001b[0m\u001b[0;34m:\u001b[0m\u001b[0;34m\u001b[0m\u001b[0;34m\u001b[0m\u001b[0m\n\u001b[0;32m--> 237\u001b[0;31m         \u001b[0mnew_values\u001b[0m \u001b[0;34m=\u001b[0m \u001b[0mastype_array\u001b[0m\u001b[0;34m(\u001b[0m\u001b[0mvalues\u001b[0m\u001b[0;34m,\u001b[0m \u001b[0mdtype\u001b[0m\u001b[0;34m,\u001b[0m \u001b[0mcopy\u001b[0m\u001b[0;34m=\u001b[0m\u001b[0mcopy\u001b[0m\u001b[0;34m)\u001b[0m\u001b[0;34m\u001b[0m\u001b[0;34m\u001b[0m\u001b[0m\n\u001b[0m\u001b[1;32m    238\u001b[0m     \u001b[0;32mexcept\u001b[0m \u001b[0;34m(\u001b[0m\u001b[0mValueError\u001b[0m\u001b[0;34m,\u001b[0m \u001b[0mTypeError\u001b[0m\u001b[0;34m)\u001b[0m\u001b[0;34m:\u001b[0m\u001b[0;34m\u001b[0m\u001b[0;34m\u001b[0m\u001b[0m\n\u001b[1;32m    239\u001b[0m         \u001b[0;31m# e.g. _astype_nansafe can fail on object-dtype of strings\u001b[0m\u001b[0;34m\u001b[0m\u001b[0;34m\u001b[0m\u001b[0m\n",
            "\u001b[0;32m/usr/local/lib/python3.10/dist-packages/pandas/core/dtypes/astype.py\u001b[0m in \u001b[0;36mastype_array\u001b[0;34m(values, dtype, copy)\u001b[0m\n\u001b[1;32m    180\u001b[0m \u001b[0;34m\u001b[0m\u001b[0m\n\u001b[1;32m    181\u001b[0m     \u001b[0;32melse\u001b[0m\u001b[0;34m:\u001b[0m\u001b[0;34m\u001b[0m\u001b[0;34m\u001b[0m\u001b[0m\n\u001b[0;32m--> 182\u001b[0;31m         \u001b[0mvalues\u001b[0m \u001b[0;34m=\u001b[0m \u001b[0m_astype_nansafe\u001b[0m\u001b[0;34m(\u001b[0m\u001b[0mvalues\u001b[0m\u001b[0;34m,\u001b[0m \u001b[0mdtype\u001b[0m\u001b[0;34m,\u001b[0m \u001b[0mcopy\u001b[0m\u001b[0;34m=\u001b[0m\u001b[0mcopy\u001b[0m\u001b[0;34m)\u001b[0m\u001b[0;34m\u001b[0m\u001b[0;34m\u001b[0m\u001b[0m\n\u001b[0m\u001b[1;32m    183\u001b[0m \u001b[0;34m\u001b[0m\u001b[0m\n\u001b[1;32m    184\u001b[0m     \u001b[0;31m# in pandas we don't store numpy str dtypes, so convert to object\u001b[0m\u001b[0;34m\u001b[0m\u001b[0;34m\u001b[0m\u001b[0m\n",
            "\u001b[0;32m/usr/local/lib/python3.10/dist-packages/pandas/core/dtypes/astype.py\u001b[0m in \u001b[0;36m_astype_nansafe\u001b[0;34m(arr, dtype, copy, skipna)\u001b[0m\n\u001b[1;32m     99\u001b[0m \u001b[0;34m\u001b[0m\u001b[0m\n\u001b[1;32m    100\u001b[0m     \u001b[0;32melif\u001b[0m \u001b[0mnp\u001b[0m\u001b[0;34m.\u001b[0m\u001b[0missubdtype\u001b[0m\u001b[0;34m(\u001b[0m\u001b[0marr\u001b[0m\u001b[0;34m.\u001b[0m\u001b[0mdtype\u001b[0m\u001b[0;34m,\u001b[0m \u001b[0mnp\u001b[0m\u001b[0;34m.\u001b[0m\u001b[0mfloating\u001b[0m\u001b[0;34m)\u001b[0m \u001b[0;32mand\u001b[0m \u001b[0mdtype\u001b[0m\u001b[0;34m.\u001b[0m\u001b[0mkind\u001b[0m \u001b[0;32min\u001b[0m \u001b[0;34m\"iu\"\u001b[0m\u001b[0;34m:\u001b[0m\u001b[0;34m\u001b[0m\u001b[0;34m\u001b[0m\u001b[0m\n\u001b[0;32m--> 101\u001b[0;31m         \u001b[0;32mreturn\u001b[0m \u001b[0m_astype_float_to_int_nansafe\u001b[0m\u001b[0;34m(\u001b[0m\u001b[0marr\u001b[0m\u001b[0;34m,\u001b[0m \u001b[0mdtype\u001b[0m\u001b[0;34m,\u001b[0m \u001b[0mcopy\u001b[0m\u001b[0;34m)\u001b[0m\u001b[0;34m\u001b[0m\u001b[0;34m\u001b[0m\u001b[0m\n\u001b[0m\u001b[1;32m    102\u001b[0m \u001b[0;34m\u001b[0m\u001b[0m\n\u001b[1;32m    103\u001b[0m     \u001b[0;32melif\u001b[0m \u001b[0marr\u001b[0m\u001b[0;34m.\u001b[0m\u001b[0mdtype\u001b[0m \u001b[0;34m==\u001b[0m \u001b[0mobject\u001b[0m\u001b[0;34m:\u001b[0m\u001b[0;34m\u001b[0m\u001b[0;34m\u001b[0m\u001b[0m\n",
            "\u001b[0;32m/usr/local/lib/python3.10/dist-packages/pandas/core/dtypes/astype.py\u001b[0m in \u001b[0;36m_astype_float_to_int_nansafe\u001b[0;34m(values, dtype, copy)\u001b[0m\n\u001b[1;32m    143\u001b[0m     \"\"\"\n\u001b[1;32m    144\u001b[0m     \u001b[0;32mif\u001b[0m \u001b[0;32mnot\u001b[0m \u001b[0mnp\u001b[0m\u001b[0;34m.\u001b[0m\u001b[0misfinite\u001b[0m\u001b[0;34m(\u001b[0m\u001b[0mvalues\u001b[0m\u001b[0;34m)\u001b[0m\u001b[0;34m.\u001b[0m\u001b[0mall\u001b[0m\u001b[0;34m(\u001b[0m\u001b[0;34m)\u001b[0m\u001b[0;34m:\u001b[0m\u001b[0;34m\u001b[0m\u001b[0;34m\u001b[0m\u001b[0m\n\u001b[0;32m--> 145\u001b[0;31m         raise IntCastingNaNError(\n\u001b[0m\u001b[1;32m    146\u001b[0m             \u001b[0;34m\"Cannot convert non-finite values (NA or inf) to integer\"\u001b[0m\u001b[0;34m\u001b[0m\u001b[0;34m\u001b[0m\u001b[0m\n\u001b[1;32m    147\u001b[0m         )\n",
            "\u001b[0;31mIntCastingNaNError\u001b[0m: Cannot convert non-finite values (NA or inf) to integer"
          ]
        }
      ]
    },
    {
      "cell_type": "code",
      "source": [],
      "metadata": {
        "id": "64YxduBrkwX0"
      },
      "execution_count": null,
      "outputs": []
    },
    {
      "source": [
        "import pandas as pd\n",
        "\n",
        "# Assuming your DataFrame is named 'df'\n",
        "\n",
        "# Extract the year as two digits\n",
        "df['Year_2digit'] = df['pkTraineeRegNumber'].str[1:3]\n",
        "\n",
        "# Print the updated DataFrame\n",
        "print(df)"
      ],
      "cell_type": "code",
      "metadata": {
        "colab": {
          "base_uri": "https://localhost:8080/"
        },
        "id": "zrIjoBFTl_zC",
        "outputId": "c1094d3b-6ae7-49c9-fc98-fcfdc84cebba"
      },
      "execution_count": null,
      "outputs": [
        {
          "output_type": "stream",
          "name": "stdout",
          "text": [
            "         pkTraineeRegNumber  TraineeFirstName Gender FatherGuardianName  \\\n",
            "0             R140812000429     PAPU HANDIQUE      M   HORUMON HANDIQUE   \n",
            "1             R140812000428  MD SUFIYAN AHMED      M    MD NOUSAD AHMED   \n",
            "2             R140812000427         LIPU MURI      M         TAGAM MURI   \n",
            "3             R140812000426        TECHI TAGG      M        TECHI RENSO   \n",
            "4             R140812000425       SANGHA TADE      M        SANGHA TARE   \n",
            "...                     ...               ...    ...                ...   \n",
            "10743989      R160813000005        TEMSUMEREN      M      LANUTEMSHI AO   \n",
            "10743990      R160813000004          TENUSOWA      M          TALIMEREN   \n",
            "10743991      R160813000003          TIAMANEN      M        SHILUYANGER   \n",
            "10743992      R160813000002    MOALONG PONGEN      M   LIMAONGBA PONGEN   \n",
            "10743993      R160813000001   TEMSULILA JAMIR      F  YAPANGCHIBA JAMIR   \n",
            "\n",
            "                 MotherName                      CourseName CourseDuration  \\\n",
            "0           MINATI HANDIQUE                     Electrician         2 Year   \n",
            "1                MINU BEGUM                         Wireman         2 Year   \n",
            "2                 YATE MURI  Secretarial Practice (English)         1 Year   \n",
            "3               TECHI YOKUM                     Electrician         2 Year   \n",
            "4             SANGHA YANANG                       Carpenter         1 Year   \n",
            "...                     ...                             ...            ...   \n",
            "10743989         IMTINUNGLA  Secretarial Practice (English)         1 Year   \n",
            "10743990            ASANGLA  Secretarial Practice (English)         1 Year   \n",
            "10743991             ARENLA  Secretarial Practice (English)         1 Year   \n",
            "10743992      ASANGLA JAMIR  Secretarial Practice (English)         1 Year   \n",
            "10743993  YASHILEMLA LEMTUR  Secretarial Practice (English)         1 Year   \n",
            "\n",
            "                  StateName         DistrictName Category Qualification  \\\n",
            "0         ARUNACHAL PRADESH  LOWER DIBANG VALLEY      OBC          10th   \n",
            "1         ARUNACHAL PRADESH  LOWER DIBANG VALLEY      GEN           8th   \n",
            "2         ARUNACHAL PRADESH      UPPER SUBANSIRI       ST           NaN   \n",
            "3         ARUNACHAL PRADESH      UPPER SUBANSIRI       ST           NaN   \n",
            "4         ARUNACHAL PRADESH  LOWER DIBANG VALLEY       ST           8th   \n",
            "...                     ...                  ...      ...           ...   \n",
            "10743989           NAGALAND           MOKOKCHUNG       ST          12th   \n",
            "10743990           NAGALAND           MOKOKCHUNG       ST            BA   \n",
            "10743991           NAGALAND           MOKOKCHUNG       ST          12th   \n",
            "10743992           NAGALAND           MOKOKCHUNG       ST          10th   \n",
            "10743993           NAGALAND           MOKOKCHUNG       ST            BA   \n",
            "\n",
            "          EducationStream                                           ITIName  \\\n",
            "0             Engineering        Govt. Industrial Training Institute, Roing   \n",
            "1             Engineering        Govt. Industrial Training Institute, Roing   \n",
            "2         Non-Engineering      Govt Industrial Training Institute, Tabarijo   \n",
            "3             Engineering      Govt Industrial Training Institute, Tabarijo   \n",
            "4             Engineering        Govt. Industrial Training Institute, Roing   \n",
            "...                   ...                                               ...   \n",
            "10743989  Non-Engineering  Govt.  Industrial Training Institute, Mokokchung   \n",
            "10743990  Non-Engineering  Govt.  Industrial Training Institute, Mokokchung   \n",
            "10743991  Non-Engineering  Govt.  Industrial Training Institute, Mokokchung   \n",
            "10743992  Non-Engineering  Govt.  Industrial Training Institute, Mokokchung   \n",
            "10743993  Non-Engineering  Govt.  Industrial Training Institute, Mokokchung   \n",
            "\n",
            "         ITICategory    Year Year_2digit  \n",
            "0                  G  2014.0          14  \n",
            "1                  G  2014.0          14  \n",
            "2                  G  2014.0          14  \n",
            "3                  G  2014.0          14  \n",
            "4                  G  2014.0          14  \n",
            "...              ...     ...         ...  \n",
            "10743989           G  2016.0          16  \n",
            "10743990           G  2016.0          16  \n",
            "10743991           G  2016.0          16  \n",
            "10743992           G  2016.0          16  \n",
            "10743993           G  2016.0          16  \n",
            "\n",
            "[10743994 rows x 16 columns]\n"
          ]
        }
      ]
    },
    {
      "source": [
        "import pandas as pd\n",
        "\n",
        "# Assuming your DataFrame is named 'df' and has a 'Year_2digit' column\n",
        "\n",
        "# Convert two-digit years to four-digit years\n",
        "df['Year_4digit'] = df['Year_2digit'].astype(int).apply(lambda x: 2000 + x if 0 <= x <= 23 else 1900 + x if 24 <= x <= 99 else x)\n",
        "\n",
        "# Print the updated DataFrame\n",
        "print(df)"
      ],
      "cell_type": "code",
      "metadata": {
        "colab": {
          "base_uri": "https://localhost:8080/"
        },
        "id": "uQiwSo4jl6fm",
        "outputId": "8ff83ab6-a116-4b18-c7c1-8d00246ef21e"
      },
      "execution_count": null,
      "outputs": [
        {
          "output_type": "stream",
          "name": "stdout",
          "text": [
            "         pkTraineeRegNumber  TraineeFirstName Gender FatherGuardianName  \\\n",
            "0             R140812000429     PAPU HANDIQUE      M   HORUMON HANDIQUE   \n",
            "1             R140812000428  MD SUFIYAN AHMED      M    MD NOUSAD AHMED   \n",
            "2             R140812000427         LIPU MURI      M         TAGAM MURI   \n",
            "3             R140812000426        TECHI TAGG      M        TECHI RENSO   \n",
            "4             R140812000425       SANGHA TADE      M        SANGHA TARE   \n",
            "...                     ...               ...    ...                ...   \n",
            "10743989      R160813000005        TEMSUMEREN      M      LANUTEMSHI AO   \n",
            "10743990      R160813000004          TENUSOWA      M          TALIMEREN   \n",
            "10743991      R160813000003          TIAMANEN      M        SHILUYANGER   \n",
            "10743992      R160813000002    MOALONG PONGEN      M   LIMAONGBA PONGEN   \n",
            "10743993      R160813000001   TEMSULILA JAMIR      F  YAPANGCHIBA JAMIR   \n",
            "\n",
            "                 MotherName                      CourseName CourseDuration  \\\n",
            "0           MINATI HANDIQUE                     Electrician         2 Year   \n",
            "1                MINU BEGUM                         Wireman         2 Year   \n",
            "2                 YATE MURI  Secretarial Practice (English)         1 Year   \n",
            "3               TECHI YOKUM                     Electrician         2 Year   \n",
            "4             SANGHA YANANG                       Carpenter         1 Year   \n",
            "...                     ...                             ...            ...   \n",
            "10743989         IMTINUNGLA  Secretarial Practice (English)         1 Year   \n",
            "10743990            ASANGLA  Secretarial Practice (English)         1 Year   \n",
            "10743991             ARENLA  Secretarial Practice (English)         1 Year   \n",
            "10743992      ASANGLA JAMIR  Secretarial Practice (English)         1 Year   \n",
            "10743993  YASHILEMLA LEMTUR  Secretarial Practice (English)         1 Year   \n",
            "\n",
            "                  StateName         DistrictName Category Qualification  \\\n",
            "0         ARUNACHAL PRADESH  LOWER DIBANG VALLEY      OBC          10th   \n",
            "1         ARUNACHAL PRADESH  LOWER DIBANG VALLEY      GEN           8th   \n",
            "2         ARUNACHAL PRADESH      UPPER SUBANSIRI       ST           NaN   \n",
            "3         ARUNACHAL PRADESH      UPPER SUBANSIRI       ST           NaN   \n",
            "4         ARUNACHAL PRADESH  LOWER DIBANG VALLEY       ST           8th   \n",
            "...                     ...                  ...      ...           ...   \n",
            "10743989           NAGALAND           MOKOKCHUNG       ST          12th   \n",
            "10743990           NAGALAND           MOKOKCHUNG       ST            BA   \n",
            "10743991           NAGALAND           MOKOKCHUNG       ST          12th   \n",
            "10743992           NAGALAND           MOKOKCHUNG       ST          10th   \n",
            "10743993           NAGALAND           MOKOKCHUNG       ST            BA   \n",
            "\n",
            "          EducationStream                                           ITIName  \\\n",
            "0             Engineering        Govt. Industrial Training Institute, Roing   \n",
            "1             Engineering        Govt. Industrial Training Institute, Roing   \n",
            "2         Non-Engineering      Govt Industrial Training Institute, Tabarijo   \n",
            "3             Engineering      Govt Industrial Training Institute, Tabarijo   \n",
            "4             Engineering        Govt. Industrial Training Institute, Roing   \n",
            "...                   ...                                               ...   \n",
            "10743989  Non-Engineering  Govt.  Industrial Training Institute, Mokokchung   \n",
            "10743990  Non-Engineering  Govt.  Industrial Training Institute, Mokokchung   \n",
            "10743991  Non-Engineering  Govt.  Industrial Training Institute, Mokokchung   \n",
            "10743992  Non-Engineering  Govt.  Industrial Training Institute, Mokokchung   \n",
            "10743993  Non-Engineering  Govt.  Industrial Training Institute, Mokokchung   \n",
            "\n",
            "         ITICategory    Year Year_2digit  Year_4digit  \n",
            "0                  G  2014.0          14         2014  \n",
            "1                  G  2014.0          14         2014  \n",
            "2                  G  2014.0          14         2014  \n",
            "3                  G  2014.0          14         2014  \n",
            "4                  G  2014.0          14         2014  \n",
            "...              ...     ...         ...          ...  \n",
            "10743989           G  2016.0          16         2016  \n",
            "10743990           G  2016.0          16         2016  \n",
            "10743991           G  2016.0          16         2016  \n",
            "10743992           G  2016.0          16         2016  \n",
            "10743993           G  2016.0          16         2016  \n",
            "\n",
            "[10743994 rows x 17 columns]\n"
          ]
        }
      ]
    },
    {
      "source": [
        "import pandas as pd\n",
        "\n",
        "# Assuming your DataFrame is named 'df'\n",
        "\n",
        "# Delete 'Year' and 'Year_2digit' columns\n",
        "df = df.drop(columns=['Year', 'Year_2digit'])\n",
        "\n",
        "# Rename 'Year_4digit' to 'Year'\n",
        "df = df.rename(columns={'Year_4digit': 'Year'})\n",
        "\n",
        "# Print the updated DataFrame\n",
        "print(df)"
      ],
      "cell_type": "code",
      "metadata": {
        "colab": {
          "base_uri": "https://localhost:8080/"
        },
        "id": "0kLkdBRRmVww",
        "outputId": "08557d09-6e8a-4887-c423-ffe852a3b5d0"
      },
      "execution_count": null,
      "outputs": [
        {
          "output_type": "stream",
          "name": "stdout",
          "text": [
            "         pkTraineeRegNumber  TraineeFirstName Gender FatherGuardianName  \\\n",
            "0             R140812000429     PAPU HANDIQUE      M   HORUMON HANDIQUE   \n",
            "1             R140812000428  MD SUFIYAN AHMED      M    MD NOUSAD AHMED   \n",
            "2             R140812000427         LIPU MURI      M         TAGAM MURI   \n",
            "3             R140812000426        TECHI TAGG      M        TECHI RENSO   \n",
            "4             R140812000425       SANGHA TADE      M        SANGHA TARE   \n",
            "...                     ...               ...    ...                ...   \n",
            "10743989      R160813000005        TEMSUMEREN      M      LANUTEMSHI AO   \n",
            "10743990      R160813000004          TENUSOWA      M          TALIMEREN   \n",
            "10743991      R160813000003          TIAMANEN      M        SHILUYANGER   \n",
            "10743992      R160813000002    MOALONG PONGEN      M   LIMAONGBA PONGEN   \n",
            "10743993      R160813000001   TEMSULILA JAMIR      F  YAPANGCHIBA JAMIR   \n",
            "\n",
            "                 MotherName                      CourseName CourseDuration  \\\n",
            "0           MINATI HANDIQUE                     Electrician         2 Year   \n",
            "1                MINU BEGUM                         Wireman         2 Year   \n",
            "2                 YATE MURI  Secretarial Practice (English)         1 Year   \n",
            "3               TECHI YOKUM                     Electrician         2 Year   \n",
            "4             SANGHA YANANG                       Carpenter         1 Year   \n",
            "...                     ...                             ...            ...   \n",
            "10743989         IMTINUNGLA  Secretarial Practice (English)         1 Year   \n",
            "10743990            ASANGLA  Secretarial Practice (English)         1 Year   \n",
            "10743991             ARENLA  Secretarial Practice (English)         1 Year   \n",
            "10743992      ASANGLA JAMIR  Secretarial Practice (English)         1 Year   \n",
            "10743993  YASHILEMLA LEMTUR  Secretarial Practice (English)         1 Year   \n",
            "\n",
            "                  StateName         DistrictName Category Qualification  \\\n",
            "0         ARUNACHAL PRADESH  LOWER DIBANG VALLEY      OBC          10th   \n",
            "1         ARUNACHAL PRADESH  LOWER DIBANG VALLEY      GEN           8th   \n",
            "2         ARUNACHAL PRADESH      UPPER SUBANSIRI       ST           NaN   \n",
            "3         ARUNACHAL PRADESH      UPPER SUBANSIRI       ST           NaN   \n",
            "4         ARUNACHAL PRADESH  LOWER DIBANG VALLEY       ST           8th   \n",
            "...                     ...                  ...      ...           ...   \n",
            "10743989           NAGALAND           MOKOKCHUNG       ST          12th   \n",
            "10743990           NAGALAND           MOKOKCHUNG       ST            BA   \n",
            "10743991           NAGALAND           MOKOKCHUNG       ST          12th   \n",
            "10743992           NAGALAND           MOKOKCHUNG       ST          10th   \n",
            "10743993           NAGALAND           MOKOKCHUNG       ST            BA   \n",
            "\n",
            "          EducationStream                                           ITIName  \\\n",
            "0             Engineering        Govt. Industrial Training Institute, Roing   \n",
            "1             Engineering        Govt. Industrial Training Institute, Roing   \n",
            "2         Non-Engineering      Govt Industrial Training Institute, Tabarijo   \n",
            "3             Engineering      Govt Industrial Training Institute, Tabarijo   \n",
            "4             Engineering        Govt. Industrial Training Institute, Roing   \n",
            "...                   ...                                               ...   \n",
            "10743989  Non-Engineering  Govt.  Industrial Training Institute, Mokokchung   \n",
            "10743990  Non-Engineering  Govt.  Industrial Training Institute, Mokokchung   \n",
            "10743991  Non-Engineering  Govt.  Industrial Training Institute, Mokokchung   \n",
            "10743992  Non-Engineering  Govt.  Industrial Training Institute, Mokokchung   \n",
            "10743993  Non-Engineering  Govt.  Industrial Training Institute, Mokokchung   \n",
            "\n",
            "         ITICategory  Year  \n",
            "0                  G  2014  \n",
            "1                  G  2014  \n",
            "2                  G  2014  \n",
            "3                  G  2014  \n",
            "4                  G  2014  \n",
            "...              ...   ...  \n",
            "10743989           G  2016  \n",
            "10743990           G  2016  \n",
            "10743991           G  2016  \n",
            "10743992           G  2016  \n",
            "10743993           G  2016  \n",
            "\n",
            "[10743994 rows x 15 columns]\n"
          ]
        }
      ]
    },
    {
      "cell_type": "code",
      "source": [],
      "metadata": {
        "id": "052o3kTWlLhl"
      },
      "execution_count": null,
      "outputs": []
    },
    {
      "source": [
        "import pandas as pd\n",
        "\n",
        "# Assuming your DataFrame is named 'df'\n",
        "\n",
        "# Check for NA values\n",
        "na_values = df[df['Year'].isna()]\n",
        "\n",
        "# Check for infinite values\n",
        "inf_values = df[df['Year'].isin([float('inf'), float('-inf')])]\n",
        "\n",
        "# Print the results\n",
        "print(\"NA Values:\\n\", na_values)\n",
        "print(\"\\nInfinite Values:\\n\", inf_values)"
      ],
      "cell_type": "code",
      "metadata": {
        "colab": {
          "base_uri": "https://localhost:8080/"
        },
        "id": "yUVhQvpElK0e",
        "outputId": "3e13f290-ae77-4404-f9f0-8e6e9528a2e0"
      },
      "execution_count": null,
      "outputs": [
        {
          "output_type": "stream",
          "name": "stdout",
          "text": [
            "NA Values:\n",
            " Empty DataFrame\n",
            "Columns: [pkTraineeRegNumber, TraineeFirstName, Gender, FatherGuardianName, MotherName, CourseName, CourseDuration, StateName, DistrictName, Category, Qualification, EducationStream, ITIName, ITICategory, Year]\n",
            "Index: []\n",
            "\n",
            "Infinite Values:\n",
            " Empty DataFrame\n",
            "Columns: [pkTraineeRegNumber, TraineeFirstName, Gender, FatherGuardianName, MotherName, CourseName, CourseDuration, StateName, DistrictName, Category, Qualification, EducationStream, ITIName, ITICategory, Year]\n",
            "Index: []\n"
          ]
        }
      ]
    },
    {
      "cell_type": "code",
      "source": [
        "df1 = df[['pkTraineeRegNumber','StateName', 'DistrictName', 'ITIName', 'CourseName', 'Year']]\n",
        "print(df1_new)"
      ],
      "metadata": {
        "colab": {
          "base_uri": "https://localhost:8080/"
        },
        "id": "F5EED-YqmIO0",
        "outputId": "e217df07-53b7-4013-a200-f1cc71eea4ab"
      },
      "execution_count": null,
      "outputs": [
        {
          "output_type": "stream",
          "name": "stdout",
          "text": [
            "         pkTraineeRegNumber          StateName         DistrictName  \\\n",
            "0             R140812000429  ARUNACHAL PRADESH  LOWER DIBANG VALLEY   \n",
            "1             R140812000428  ARUNACHAL PRADESH  LOWER DIBANG VALLEY   \n",
            "2             R140812000427  ARUNACHAL PRADESH      UPPER SUBANSIRI   \n",
            "3             R140812000426  ARUNACHAL PRADESH      UPPER SUBANSIRI   \n",
            "4             R140812000425  ARUNACHAL PRADESH  LOWER DIBANG VALLEY   \n",
            "...                     ...                ...                  ...   \n",
            "10743989      R160813000005           NAGALAND           MOKOKCHUNG   \n",
            "10743990      R160813000004           NAGALAND           MOKOKCHUNG   \n",
            "10743991      R160813000003           NAGALAND           MOKOKCHUNG   \n",
            "10743992      R160813000002           NAGALAND           MOKOKCHUNG   \n",
            "10743993      R160813000001           NAGALAND           MOKOKCHUNG   \n",
            "\n",
            "                                                   ITIName  \\\n",
            "0               Govt. Industrial Training Institute, Roing   \n",
            "1               Govt. Industrial Training Institute, Roing   \n",
            "2             Govt Industrial Training Institute, Tabarijo   \n",
            "3             Govt Industrial Training Institute, Tabarijo   \n",
            "4               Govt. Industrial Training Institute, Roing   \n",
            "...                                                    ...   \n",
            "10743989  Govt.  Industrial Training Institute, Mokokchung   \n",
            "10743990  Govt.  Industrial Training Institute, Mokokchung   \n",
            "10743991  Govt.  Industrial Training Institute, Mokokchung   \n",
            "10743992  Govt.  Industrial Training Institute, Mokokchung   \n",
            "10743993  Govt.  Industrial Training Institute, Mokokchung   \n",
            "\n",
            "                              CourseName  Year  \n",
            "0                            Electrician  2014  \n",
            "1                                Wireman  2014  \n",
            "2         Secretarial Practice (English)  2014  \n",
            "3                            Electrician  2014  \n",
            "4                              Carpenter  2014  \n",
            "...                                  ...   ...  \n",
            "10743989  Secretarial Practice (English)  2016  \n",
            "10743990  Secretarial Practice (English)  2016  \n",
            "10743991  Secretarial Practice (English)  2016  \n",
            "10743992  Secretarial Practice (English)  2016  \n",
            "10743993  Secretarial Practice (English)  2016  \n",
            "\n",
            "[10743994 rows x 6 columns]\n"
          ]
        }
      ]
    },
    {
      "cell_type": "code",
      "source": [
        "df1.to_csv('ITI_Data_compressed_modified.csv', index=False)"
      ],
      "metadata": {
        "id": "J9RQXha4mlxb"
      },
      "execution_count": null,
      "outputs": []
    },
    {
      "cell_type": "code",
      "source": [
        "import pandas as pd\n",
        "\n",
        "# Load the CSV file\n",
        "data = pd.read_csv(\"ITI_Data_compressed_modified.csv\")\n",
        "\n",
        "# Aggregate district-wise data\n",
        "district_data = data.groupby([\"StateName\", \"DistrictName\", \"Year\"]).agg({\n",
        "    \"ITIName\": \"nunique\",  # Number of unique institutes\n",
        "    \"CourseName\": \"nunique\",  # Number of unique courses\n",
        "    \"pkTraineeRegNumber\": \"nunique\"  # Number of unique students\n",
        "}).reset_index()\n",
        "\n",
        "# Rename columns\n",
        "district_data.rename(columns={\n",
        "    \"ITIName\": \"NumInstitutes\",\n",
        "    \"CourseName\": \"NumCourses\",\n",
        "    \"pkTraineeRegNumber\": \"NumStudents\"\n",
        "}, inplace=True)\n",
        "\n",
        "# Aggregate course-wise data\n",
        "course_data = data.groupby([\"StateName\", \"CourseName\", \"Year\"]).agg({\n",
        "    \"pkTraineeRegNumber\": \"nunique\"  # Number of unique students\n",
        "}).reset_index()\n",
        "\n",
        "# Rename columns\n",
        "course_data.rename(columns={\"pkTraineeRegNumber\": \"NumStudents\"}, inplace=True)\n",
        "\n",
        "# Save the aggregated data to CSV files\n",
        "district_data.to_csv(\"aggregated_district_data.csv\", index=False)\n",
        "course_data.to_csv(\"aggregated_course_data.csv\", index=False)\n"
      ],
      "metadata": {
        "id": "CrPILPB1myHz"
      },
      "execution_count": null,
      "outputs": []
    },
    {
      "cell_type": "code",
      "source": [],
      "metadata": {
        "id": "kY0v4vbOR4D8"
      },
      "execution_count": null,
      "outputs": []
    },
    {
      "cell_type": "code",
      "source": [
        "import pandas as pd\n",
        "\n",
        "# Load the CSV file\n",
        "data = pd.read_csv(\"/content/ITI_Data_compressed_modified.csv\")\n",
        "\n",
        "# Aggregate district-wise data\n",
        "district_data = data.groupby([\"StateName\", \"DistrictName\", \"Year\"]).agg({\n",
        "    \"ITIName\": pd.Series.nunique,  # Count unique institutes\n",
        "    \"CourseName\": pd.Series.nunique,  # Count unique courses\n",
        "    \"pkTraineeRegNumber\": pd.Series.nunique  # Count unique students\n",
        "}).reset_index()\n",
        "\n",
        "# Rename columns for clarity\n",
        "district_data.rename(columns={\n",
        "    \"ITIName\": \"NumInstitutes\",\n",
        "    \"CourseName\": \"NumCourses\",\n",
        "    \"pkTraineeRegNumber\": \"NumStudents\"\n",
        "}, inplace=True)\n",
        "\n",
        "# Save the aggregated data\n",
        "district_data.to_csv(\"corrected_district_data.csv\", index=False)\n",
        "\n",
        "print(\"Aggregation corrected and saved to 'corrected_district_data.csv'.\")\n"
      ],
      "metadata": {
        "colab": {
          "base_uri": "https://localhost:8080/"
        },
        "id": "S5VJv547Whxv",
        "outputId": "46f314a0-29cf-489c-dcff-91db3132ed62"
      },
      "execution_count": 8,
      "outputs": [
        {
          "output_type": "stream",
          "name": "stdout",
          "text": [
            "Aggregation corrected and saved to 'corrected_district_data.csv'.\n"
          ]
        }
      ]
    },
    {
      "cell_type": "code",
      "source": [
        "print(district_data)"
      ],
      "metadata": {
        "colab": {
          "base_uri": "https://localhost:8080/"
        },
        "id": "MpB8YYJPYOpO",
        "outputId": "2a97da79-ac9e-46bc-a39b-858f7e279d60"
      },
      "execution_count": null,
      "outputs": [
        {
          "output_type": "stream",
          "name": "stdout",
          "text": [
            "                        StateName              DistrictName  Year  \\\n",
            "0     ANDAMAN AND NICOBAR ISLANDS                  NICOBARS  2019   \n",
            "1     ANDAMAN AND NICOBAR ISLANDS                  NICOBARS  2020   \n",
            "2     ANDAMAN AND NICOBAR ISLANDS                  NICOBARS  2021   \n",
            "3     ANDAMAN AND NICOBAR ISLANDS                  NICOBARS  2022   \n",
            "4     ANDAMAN AND NICOBAR ISLANDS  NORTH AND MIDDLE ANDAMAN  2014   \n",
            "...                           ...                       ...   ...   \n",
            "6002                  WEST BENGAL            UTTAR DINAJPUR  2018   \n",
            "6003                  WEST BENGAL            UTTAR DINAJPUR  2019   \n",
            "6004                  WEST BENGAL            UTTAR DINAJPUR  2020   \n",
            "6005                  WEST BENGAL            UTTAR DINAJPUR  2021   \n",
            "6006                  WEST BENGAL            UTTAR DINAJPUR  2022   \n",
            "\n",
            "      NumInstitutes  NumCourses  NumStudents  \n",
            "0                 1           4           83  \n",
            "1                 1           6          234  \n",
            "2                 1           6          167  \n",
            "3                 1           6           96  \n",
            "4                 1           2           36  \n",
            "...             ...         ...          ...  \n",
            "6002              6          14          584  \n",
            "6003              6          16          804  \n",
            "6004              6          15          760  \n",
            "6005              6          17          707  \n",
            "6006              6          15          721  \n",
            "\n",
            "[6007 rows x 6 columns]\n"
          ]
        }
      ]
    },
    {
      "cell_type": "code",
      "source": [
        "df1 = pd.read_csv(\"corrected_district_data.csv\")\n",
        "print(df1)"
      ],
      "metadata": {
        "colab": {
          "base_uri": "https://localhost:8080/"
        },
        "id": "U7rLE1ekt50Q",
        "outputId": "a46d8376-e76a-40c6-ddaf-f0d77f3d191e"
      },
      "execution_count": 12,
      "outputs": [
        {
          "output_type": "stream",
          "name": "stdout",
          "text": [
            "                        StateName              DistrictName  Year  \\\n",
            "0     ANDAMAN AND NICOBAR ISLANDS                  NICOBARS  2019   \n",
            "1     ANDAMAN AND NICOBAR ISLANDS                  NICOBARS  2020   \n",
            "2     ANDAMAN AND NICOBAR ISLANDS                  NICOBARS  2021   \n",
            "3     ANDAMAN AND NICOBAR ISLANDS                  NICOBARS  2022   \n",
            "4     ANDAMAN AND NICOBAR ISLANDS  NORTH AND MIDDLE ANDAMAN  2014   \n",
            "...                           ...                       ...   ...   \n",
            "6002                  WEST BENGAL            UTTAR DINAJPUR  2018   \n",
            "6003                  WEST BENGAL            UTTAR DINAJPUR  2019   \n",
            "6004                  WEST BENGAL            UTTAR DINAJPUR  2020   \n",
            "6005                  WEST BENGAL            UTTAR DINAJPUR  2021   \n",
            "6006                  WEST BENGAL            UTTAR DINAJPUR  2022   \n",
            "\n",
            "      NumInstitutes  NumCourses  NumStudents  \n",
            "0                 1           4           83  \n",
            "1                 1           6          234  \n",
            "2                 1           6          167  \n",
            "3                 1           6           96  \n",
            "4                 1           2           36  \n",
            "...             ...         ...          ...  \n",
            "6002              6          14          584  \n",
            "6003              6          16          804  \n",
            "6004              6          15          760  \n",
            "6005              6          17          707  \n",
            "6006              6          15          721  \n",
            "\n",
            "[6007 rows x 6 columns]\n"
          ]
        }
      ]
    },
    {
      "cell_type": "code",
      "source": [],
      "metadata": {
        "id": "xIGR1Foxuzgg"
      },
      "execution_count": null,
      "outputs": []
    },
    {
      "source": [
        "district_data = df.groupby(['StateName', 'DistrictName']).agg({\n",
        "       'ITIName': pd.Series.nunique,  # Count unique ITIs\n",
        "       'CourseName': pd.Series.nunique,  # Count unique courses\n",
        "       'pkTraineeRegNumber': pd.Series.nunique  # Count unique students\n",
        "   }).reset_index()"
      ],
      "cell_type": "code",
      "metadata": {
        "id": "5ZIffrlNvmvz"
      },
      "execution_count": 13,
      "outputs": []
    },
    {
      "cell_type": "code",
      "source": [],
      "metadata": {
        "id": "PIQSV5w_vu_Q"
      },
      "execution_count": null,
      "outputs": []
    },
    {
      "source": [
        "district_data.rename(columns={\n",
        "       'ITIName': 'NumInstitutes',\n",
        "       'CourseName': 'NumCourses',\n",
        "       'pkTraineeRegNumber': 'NumStudents'\n",
        "   }, inplace=True)"
      ],
      "cell_type": "code",
      "metadata": {
        "id": "3gGIlt4xwBI6"
      },
      "execution_count": 16,
      "outputs": []
    },
    {
      "cell_type": "code",
      "source": [
        "print(district_data)"
      ],
      "metadata": {
        "colab": {
          "base_uri": "https://localhost:8080/"
        },
        "id": "1t2Ygo1Mvnx0",
        "outputId": "8eca63b4-55e5-469b-8075-efb35d13514f"
      },
      "execution_count": 17,
      "outputs": [
        {
          "output_type": "stream",
          "name": "stdout",
          "text": [
            "                       StateName              DistrictName  NumITIs  \\\n",
            "0    ANDAMAN AND NICOBAR ISLANDS                  NICOBARS        1   \n",
            "1    ANDAMAN AND NICOBAR ISLANDS  NORTH AND MIDDLE ANDAMAN        1   \n",
            "2    ANDAMAN AND NICOBAR ISLANDS            SOUTH ANDAMANS        2   \n",
            "3                 ANDHRA PRADESH     ALLURI SITHARAMA RAJU        4   \n",
            "4                 ANDHRA PRADESH                ANAKAPALLI       31   \n",
            "..                           ...                       ...      ...   \n",
            "694                  WEST BENGAL                     NADIA       24   \n",
            "695                  WEST BENGAL         PASCHIM BARDHAMAN        1   \n",
            "696                  WEST BENGAL           PURBA BARDHAMAN        3   \n",
            "697                  WEST BENGAL                   PURULIA       14   \n",
            "698                  WEST BENGAL            UTTAR DINAJPUR        6   \n",
            "\n",
            "     NumCourses  NumStudents  \n",
            "0             6          580  \n",
            "1             6          423  \n",
            "2            24         2570  \n",
            "3            23         4897  \n",
            "4            18        27881  \n",
            "..          ...          ...  \n",
            "694          47        24998  \n",
            "695           4           96  \n",
            "696           4          223  \n",
            "697          33        11197  \n",
            "698          35         5335  \n",
            "\n",
            "[699 rows x 5 columns]\n"
          ]
        }
      ]
    },
    {
      "cell_type": "code",
      "source": [],
      "metadata": {
        "id": "AsIoEpCHwB5B"
      },
      "execution_count": null,
      "outputs": []
    },
    {
      "source": [
        "import pandas as pd\n",
        "\n",
        "# ... (Your previous code to create district_data) ...\n",
        "\n",
        "# Add 'Year' column with value 'ALL'\n",
        "district_data['Year'] = 'ALL'\n",
        "\n",
        "# Print or save the updated DataFrame\n",
        "print(district_data)  # Print the updated data\n",
        "# district_data.to_csv('district_wise_data_with_year.csv', index=False)  # Save to a CSV file (optional)"
      ],
      "cell_type": "code",
      "metadata": {
        "colab": {
          "base_uri": "https://localhost:8080/"
        },
        "id": "qblzbYSjwU9t",
        "outputId": "525eb107-8527-4589-8b23-1c67d2f7fc56"
      },
      "execution_count": 18,
      "outputs": [
        {
          "output_type": "stream",
          "name": "stdout",
          "text": [
            "                       StateName              DistrictName  NumITIs  \\\n",
            "0    ANDAMAN AND NICOBAR ISLANDS                  NICOBARS        1   \n",
            "1    ANDAMAN AND NICOBAR ISLANDS  NORTH AND MIDDLE ANDAMAN        1   \n",
            "2    ANDAMAN AND NICOBAR ISLANDS            SOUTH ANDAMANS        2   \n",
            "3                 ANDHRA PRADESH     ALLURI SITHARAMA RAJU        4   \n",
            "4                 ANDHRA PRADESH                ANAKAPALLI       31   \n",
            "..                           ...                       ...      ...   \n",
            "694                  WEST BENGAL                     NADIA       24   \n",
            "695                  WEST BENGAL         PASCHIM BARDHAMAN        1   \n",
            "696                  WEST BENGAL           PURBA BARDHAMAN        3   \n",
            "697                  WEST BENGAL                   PURULIA       14   \n",
            "698                  WEST BENGAL            UTTAR DINAJPUR        6   \n",
            "\n",
            "     NumCourses  NumStudents Year  \n",
            "0             6          580  ALL  \n",
            "1             6          423  ALL  \n",
            "2            24         2570  ALL  \n",
            "3            23         4897  ALL  \n",
            "4            18        27881  ALL  \n",
            "..          ...          ...  ...  \n",
            "694          47        24998  ALL  \n",
            "695           4           96  ALL  \n",
            "696           4          223  ALL  \n",
            "697          33        11197  ALL  \n",
            "698          35         5335  ALL  \n",
            "\n",
            "[699 rows x 6 columns]\n"
          ]
        }
      ]
    },
    {
      "cell_type": "code",
      "source": [
        "print(df1\n",
        "    )"
      ],
      "metadata": {
        "colab": {
          "base_uri": "https://localhost:8080/"
        },
        "id": "afKuysIpwVZk",
        "outputId": "162934bf-99e7-4c9f-d0fc-18af7602e363"
      },
      "execution_count": 19,
      "outputs": [
        {
          "output_type": "stream",
          "name": "stdout",
          "text": [
            "                        StateName              DistrictName  Year  \\\n",
            "0     ANDAMAN AND NICOBAR ISLANDS                  NICOBARS  2019   \n",
            "1     ANDAMAN AND NICOBAR ISLANDS                  NICOBARS  2020   \n",
            "2     ANDAMAN AND NICOBAR ISLANDS                  NICOBARS  2021   \n",
            "3     ANDAMAN AND NICOBAR ISLANDS                  NICOBARS  2022   \n",
            "4     ANDAMAN AND NICOBAR ISLANDS  NORTH AND MIDDLE ANDAMAN  2014   \n",
            "...                           ...                       ...   ...   \n",
            "6002                  WEST BENGAL            UTTAR DINAJPUR  2018   \n",
            "6003                  WEST BENGAL            UTTAR DINAJPUR  2019   \n",
            "6004                  WEST BENGAL            UTTAR DINAJPUR  2020   \n",
            "6005                  WEST BENGAL            UTTAR DINAJPUR  2021   \n",
            "6006                  WEST BENGAL            UTTAR DINAJPUR  2022   \n",
            "\n",
            "      NumInstitutes  NumCourses  NumStudents  \n",
            "0                 1           4           83  \n",
            "1                 1           6          234  \n",
            "2                 1           6          167  \n",
            "3                 1           6           96  \n",
            "4                 1           2           36  \n",
            "...             ...         ...          ...  \n",
            "6002              6          14          584  \n",
            "6003              6          16          804  \n",
            "6004              6          15          760  \n",
            "6005              6          17          707  \n",
            "6006              6          15          721  \n",
            "\n",
            "[6007 rows x 6 columns]\n"
          ]
        }
      ]
    },
    {
      "cell_type": "code",
      "source": [
        "print(combined_data1['Year'].unique())"
      ],
      "metadata": {
        "colab": {
          "base_uri": "https://localhost:8080/"
        },
        "id": "ICW5kJYExUNG",
        "outputId": "975e93f8-c71e-429d-edff-85d24058d6f3"
      },
      "execution_count": 42,
      "outputs": [
        {
          "output_type": "stream",
          "name": "stdout",
          "text": [
            "[2021 2022 2020 2019 2018 2014 2015 2016 2017 'ALL']\n"
          ]
        }
      ]
    },
    {
      "cell_type": "code",
      "source": [],
      "metadata": {
        "id": "VQccUdy8xbem"
      },
      "execution_count": null,
      "outputs": []
    },
    {
      "source": [
        "import pandas as pd\n",
        "\n",
        "# ... (Load df1) ...\n",
        "\n",
        "# Change 'Year' column to string type\n",
        "df1['Year'] = df1['Year'].astype(str)\n",
        "\n",
        "# Print the DataFrame to verify the changes\n",
        "print(df1.dtypes)"
      ],
      "cell_type": "code",
      "metadata": {
        "colab": {
          "base_uri": "https://localhost:8080/"
        },
        "id": "2E3LByWvxnL9",
        "outputId": "5da7b103-331f-486c-97ed-09084eaa289a"
      },
      "execution_count": 21,
      "outputs": [
        {
          "output_type": "stream",
          "name": "stdout",
          "text": [
            "StateName        object\n",
            "DistrictName     object\n",
            "Year             object\n",
            "NumInstitutes     int64\n",
            "NumCourses        int64\n",
            "NumStudents       int64\n",
            "dtype: object\n"
          ]
        }
      ]
    },
    {
      "cell_type": "code",
      "source": [
        "print(combined_data['Year'].unique())"
      ],
      "metadata": {
        "colab": {
          "base_uri": "https://localhost:8080/"
        },
        "id": "ggLpBpDVxnhU",
        "outputId": "237e7a28-ecd2-4ce5-fb82-ca0018ea88f0"
      },
      "execution_count": 44,
      "outputs": [
        {
          "output_type": "stream",
          "name": "stdout",
          "text": [
            "['2019' '2020' '2021' '2022' '2014' '2015' '2016' '2017' '2018' 'ALL']\n"
          ]
        }
      ]
    },
    {
      "cell_type": "code",
      "source": [
        "print(df1)"
      ],
      "metadata": {
        "colab": {
          "base_uri": "https://localhost:8080/"
        },
        "id": "_lk66bQAx_Gw",
        "outputId": "f298c88e-ffc8-4d14-e6c5-1ecfe34f29d3"
      },
      "execution_count": 24,
      "outputs": [
        {
          "output_type": "stream",
          "name": "stdout",
          "text": [
            "                        StateName              DistrictName  Year  \\\n",
            "0     ANDAMAN AND NICOBAR ISLANDS                  NICOBARS  2019   \n",
            "1     ANDAMAN AND NICOBAR ISLANDS                  NICOBARS  2020   \n",
            "2     ANDAMAN AND NICOBAR ISLANDS                  NICOBARS  2021   \n",
            "3     ANDAMAN AND NICOBAR ISLANDS                  NICOBARS  2022   \n",
            "4     ANDAMAN AND NICOBAR ISLANDS  NORTH AND MIDDLE ANDAMAN  2014   \n",
            "...                           ...                       ...   ...   \n",
            "6002                  WEST BENGAL            UTTAR DINAJPUR  2018   \n",
            "6003                  WEST BENGAL            UTTAR DINAJPUR  2019   \n",
            "6004                  WEST BENGAL            UTTAR DINAJPUR  2020   \n",
            "6005                  WEST BENGAL            UTTAR DINAJPUR  2021   \n",
            "6006                  WEST BENGAL            UTTAR DINAJPUR  2022   \n",
            "\n",
            "      NumInstitutes  NumCourses  NumStudents  \n",
            "0                 1           4           83  \n",
            "1                 1           6          234  \n",
            "2                 1           6          167  \n",
            "3                 1           6           96  \n",
            "4                 1           2           36  \n",
            "...             ...         ...          ...  \n",
            "6002              6          14          584  \n",
            "6003              6          16          804  \n",
            "6004              6          15          760  \n",
            "6005              6          17          707  \n",
            "6006              6          15          721  \n",
            "\n",
            "[6007 rows x 6 columns]\n"
          ]
        }
      ]
    },
    {
      "source": [
        "import pandas as pd\n",
        "#... (Load or create district_data)\n",
        "\n",
        "# Rename the column\n",
        "district_data = district_data.rename(columns={'NumITIs': 'NumInstitutes'})\n",
        "\n",
        "# Print the DataFrame to verify the changes\n",
        "print(district_data.columns)  # Print column names"
      ],
      "cell_type": "code",
      "metadata": {
        "colab": {
          "base_uri": "https://localhost:8080/"
        },
        "id": "gzDPDDRCyp6K",
        "outputId": "d34e3d52-f319-4744-e90d-97a913561760"
      },
      "execution_count": 26,
      "outputs": [
        {
          "output_type": "stream",
          "name": "stdout",
          "text": [
            "Index(['StateName', 'DistrictName', 'NumInstitutes', 'NumCourses',\n",
            "       'NumStudents', 'Year'],\n",
            "      dtype='object')\n"
          ]
        }
      ]
    },
    {
      "cell_type": "code",
      "source": [
        "print(district_data)"
      ],
      "metadata": {
        "colab": {
          "base_uri": "https://localhost:8080/"
        },
        "id": "WVYfEPjmyYoC",
        "outputId": "66a1fb73-df60-45d1-fe0f-828f22239ece"
      },
      "execution_count": 27,
      "outputs": [
        {
          "output_type": "stream",
          "name": "stdout",
          "text": [
            "                       StateName              DistrictName  NumInstitutes  \\\n",
            "0    ANDAMAN AND NICOBAR ISLANDS                  NICOBARS              1   \n",
            "1    ANDAMAN AND NICOBAR ISLANDS  NORTH AND MIDDLE ANDAMAN              1   \n",
            "2    ANDAMAN AND NICOBAR ISLANDS            SOUTH ANDAMANS              2   \n",
            "3                 ANDHRA PRADESH     ALLURI SITHARAMA RAJU              4   \n",
            "4                 ANDHRA PRADESH                ANAKAPALLI             31   \n",
            "..                           ...                       ...            ...   \n",
            "694                  WEST BENGAL                     NADIA             24   \n",
            "695                  WEST BENGAL         PASCHIM BARDHAMAN              1   \n",
            "696                  WEST BENGAL           PURBA BARDHAMAN              3   \n",
            "697                  WEST BENGAL                   PURULIA             14   \n",
            "698                  WEST BENGAL            UTTAR DINAJPUR              6   \n",
            "\n",
            "     NumCourses  NumStudents Year  \n",
            "0             6          580  ALL  \n",
            "1             6          423  ALL  \n",
            "2            24         2570  ALL  \n",
            "3            23         4897  ALL  \n",
            "4            18        27881  ALL  \n",
            "..          ...          ...  ...  \n",
            "694          47        24998  ALL  \n",
            "695           4           96  ALL  \n",
            "696           4          223  ALL  \n",
            "697          33        11197  ALL  \n",
            "698          35         5335  ALL  \n",
            "\n",
            "[699 rows x 6 columns]\n"
          ]
        }
      ]
    },
    {
      "cell_type": "code",
      "source": [],
      "metadata": {
        "id": "CeUR8x6fyciv"
      },
      "execution_count": null,
      "outputs": []
    },
    {
      "source": [
        "import pandas as pd\n",
        "\n",
        "# ... (Load df1 and create district_data) ...\n",
        "\n",
        "# Concatenate the DataFrames\n",
        "combined_data = pd.concat([df1, district_data], ignore_index=True)\n",
        "\n",
        "# Print or save the combined DataFrame\n",
        "print(combined_data)  # Print the combined data\n",
        "# combined_data.to_csv('combined_data.csv', index=False)  # Save to a CSV file (optional)"
      ],
      "cell_type": "code",
      "metadata": {
        "colab": {
          "base_uri": "https://localhost:8080/"
        },
        "id": "RwyOHMw-x-pF",
        "outputId": "e1c8f644-c98a-43e4-feed-2ac1922aedd5"
      },
      "execution_count": 41,
      "outputs": [
        {
          "output_type": "stream",
          "name": "stdout",
          "text": [
            "                        StateName              DistrictName  Year  \\\n",
            "0     ANDAMAN AND NICOBAR ISLANDS                  NICOBARS  2019   \n",
            "1     ANDAMAN AND NICOBAR ISLANDS                  NICOBARS  2020   \n",
            "2     ANDAMAN AND NICOBAR ISLANDS                  NICOBARS  2021   \n",
            "3     ANDAMAN AND NICOBAR ISLANDS                  NICOBARS  2022   \n",
            "4     ANDAMAN AND NICOBAR ISLANDS  NORTH AND MIDDLE ANDAMAN  2014   \n",
            "...                           ...                       ...   ...   \n",
            "6701                  WEST BENGAL                     NADIA   ALL   \n",
            "6702                  WEST BENGAL         PASCHIM BARDHAMAN   ALL   \n",
            "6703                  WEST BENGAL           PURBA BARDHAMAN   ALL   \n",
            "6704                  WEST BENGAL                   PURULIA   ALL   \n",
            "6705                  WEST BENGAL            UTTAR DINAJPUR   ALL   \n",
            "\n",
            "      NumInstitutes  NumCourses  NumStudents  \n",
            "0                 1           4           83  \n",
            "1                 1           6          234  \n",
            "2                 1           6          167  \n",
            "3                 1           6           96  \n",
            "4                 1           2           36  \n",
            "...             ...         ...          ...  \n",
            "6701             24          47        24998  \n",
            "6702              1           4           96  \n",
            "6703              3           4          223  \n",
            "6704             14          33        11197  \n",
            "6705              6          35         5335  \n",
            "\n",
            "[6706 rows x 6 columns]\n"
          ]
        }
      ]
    },
    {
      "cell_type": "code",
      "source": [],
      "metadata": {
        "id": "364yjNPuECvq"
      },
      "execution_count": null,
      "outputs": []
    },
    {
      "cell_type": "code",
      "source": [
        "combined_data.to_csv('combined_data.csv', index=False)"
      ],
      "metadata": {
        "id": "frmFbFsnyxfa"
      },
      "execution_count": 29,
      "outputs": []
    },
    {
      "cell_type": "code",
      "source": [
        "# prompt: similarily using ITI_Data give me data frame having course name wise number of students filtered on StateName DistrictName Year\n",
        "\n",
        "import pandas as pd\n",
        "\n",
        "# Load the combined data\n",
        "combine_data = pd.read_csv('/content/ITI_Data_compressed_modified.csv')\n",
        "\n",
        "# Group by 'CourseName', 'StateName', 'DistrictName', and 'Year', then count unique students\n",
        "course_wise_student_counts = combine_data.groupby(['CourseName', 'StateName', 'DistrictName', 'Year'])['pkTraineeRegNumber'].nunique().reset_index()\n",
        "\n",
        "# Rename the 'pkTraineeRegNumber' column to 'NumStudents'\n",
        "course_wise_student_counts = course_wise_student_counts.rename(columns={'pkTraineeRegNumber': 'NumStudents'})\n",
        "\n",
        "# Print or save the result\n",
        "print(course_wise_student_counts)\n",
        "course_wise_student_counts.to_csv('course_wise_student_counts.csv', index=False)"
      ],
      "metadata": {
        "colab": {
          "base_uri": "https://localhost:8080/"
        },
        "id": "6N6ouUjmy2I7",
        "outputId": "b4f7a5aa-65d9-472e-b4ba-d8ea4b0fca2c"
      },
      "execution_count": 30,
      "outputs": [
        {
          "output_type": "stream",
          "name": "stdout",
          "text": [
            "                                     CourseName    StateName    DistrictName  \\\n",
            "0      ADVANCED CNC MACHINING TECHNICIAN (NSQF)    KARNATAKA        BAGALKOT   \n",
            "1      ADVANCED CNC MACHINING TECHNICIAN (NSQF)    KARNATAKA        BAGALKOT   \n",
            "2      ADVANCED CNC MACHINING TECHNICIAN (NSQF)    KARNATAKA         BELGAUM   \n",
            "3      ADVANCED CNC MACHINING TECHNICIAN (NSQF)    KARNATAKA         BELGAUM   \n",
            "4      ADVANCED CNC MACHINING TECHNICIAN (NSQF)    KARNATAKA         BELLARY   \n",
            "...                                         ...          ...             ...   \n",
            "84605                            Wireman (NSQF)  WEST BENGAL         PURULIA   \n",
            "84606                            Wireman (NSQF)  WEST BENGAL         PURULIA   \n",
            "84607                            Wireman (NSQF)  WEST BENGAL  UTTAR DINAJPUR   \n",
            "84608                            Wireman (NSQF)  WEST BENGAL  UTTAR DINAJPUR   \n",
            "84609               Wood Work Technician (NSQF)      GUJARAT       AHMADABAD   \n",
            "\n",
            "       Year  NumStudents  \n",
            "0      2021           24  \n",
            "1      2022           48  \n",
            "2      2021           24  \n",
            "3      2022           90  \n",
            "4      2021           32  \n",
            "...     ...          ...  \n",
            "84605  2019           19  \n",
            "84606  2021           20  \n",
            "84607  2019           19  \n",
            "84608  2021           20  \n",
            "84609  2022            1  \n",
            "\n",
            "[84610 rows x 5 columns]\n"
          ]
        }
      ]
    },
    {
      "cell_type": "code",
      "source": [
        "# prompt: Now i need a df such that it shows count of number of students per each course filtered on StateName and DistrictName\n",
        "\n",
        "import pandas as pd\n",
        "\n",
        "# Load the combined data\n",
        "combined_data = pd.read_csv('/content/ITI_Data_compressed_modified.csv')\n",
        "\n",
        "# Group by 'CourseName', 'StateName', and 'DistrictName' and count unique students\n",
        "result_df = combined_data.groupby(['CourseName', 'StateName', 'DistrictName'])['pkTraineeRegNumber'].count().reset_index()\n",
        "\n",
        "# Rename the 'pkTraineeRegNumber' column\n",
        "result_df = result_df.rename(columns={'pkTraineeRegNumber': 'NumStudents'})\n",
        "\n",
        "# Display the result\n",
        "result_df"
      ],
      "metadata": {
        "colab": {
          "base_uri": "https://localhost:8080/",
          "height": 444
        },
        "id": "66DhB5wPAe3b",
        "outputId": "a1df5640-976e-44aa-fe81-be90deca6d80"
      },
      "execution_count": 32,
      "outputs": [
        {
          "output_type": "execute_result",
          "data": {
            "text/plain": [
              "                                     CourseName    StateName     DistrictName  \\\n",
              "0      ADVANCED CNC MACHINING TECHNICIAN (NSQF)    KARNATAKA         BAGALKOT   \n",
              "1      ADVANCED CNC MACHINING TECHNICIAN (NSQF)    KARNATAKA          BELGAUM   \n",
              "2      ADVANCED CNC MACHINING TECHNICIAN (NSQF)    KARNATAKA          BELLARY   \n",
              "3      ADVANCED CNC MACHINING TECHNICIAN (NSQF)    KARNATAKA  BENGALURU RURAL   \n",
              "4      ADVANCED CNC MACHINING TECHNICIAN (NSQF)    KARNATAKA  BENGALURU URBAN   \n",
              "...                                         ...          ...              ...   \n",
              "22409                            Wireman (NSQF)  WEST BENGAL      MURSHIDABAD   \n",
              "22410                            Wireman (NSQF)  WEST BENGAL            NADIA   \n",
              "22411                            Wireman (NSQF)  WEST BENGAL          PURULIA   \n",
              "22412                            Wireman (NSQF)  WEST BENGAL   UTTAR DINAJPUR   \n",
              "22413               Wood Work Technician (NSQF)      GUJARAT        AHMADABAD   \n",
              "\n",
              "       NumStudents  \n",
              "0               72  \n",
              "1              114  \n",
              "2              125  \n",
              "3               71  \n",
              "4              102  \n",
              "...            ...  \n",
              "22409           39  \n",
              "22410          202  \n",
              "22411           39  \n",
              "22412           39  \n",
              "22413            1  \n",
              "\n",
              "[22414 rows x 4 columns]"
            ],
            "text/html": [
              "\n",
              "  <div id=\"df-63db7954-e61f-4b49-8111-c0c0c5dc3fc2\" class=\"colab-df-container\">\n",
              "    <div>\n",
              "<style scoped>\n",
              "    .dataframe tbody tr th:only-of-type {\n",
              "        vertical-align: middle;\n",
              "    }\n",
              "\n",
              "    .dataframe tbody tr th {\n",
              "        vertical-align: top;\n",
              "    }\n",
              "\n",
              "    .dataframe thead th {\n",
              "        text-align: right;\n",
              "    }\n",
              "</style>\n",
              "<table border=\"1\" class=\"dataframe\">\n",
              "  <thead>\n",
              "    <tr style=\"text-align: right;\">\n",
              "      <th></th>\n",
              "      <th>CourseName</th>\n",
              "      <th>StateName</th>\n",
              "      <th>DistrictName</th>\n",
              "      <th>NumStudents</th>\n",
              "    </tr>\n",
              "  </thead>\n",
              "  <tbody>\n",
              "    <tr>\n",
              "      <th>0</th>\n",
              "      <td>ADVANCED CNC MACHINING TECHNICIAN (NSQF)</td>\n",
              "      <td>KARNATAKA</td>\n",
              "      <td>BAGALKOT</td>\n",
              "      <td>72</td>\n",
              "    </tr>\n",
              "    <tr>\n",
              "      <th>1</th>\n",
              "      <td>ADVANCED CNC MACHINING TECHNICIAN (NSQF)</td>\n",
              "      <td>KARNATAKA</td>\n",
              "      <td>BELGAUM</td>\n",
              "      <td>114</td>\n",
              "    </tr>\n",
              "    <tr>\n",
              "      <th>2</th>\n",
              "      <td>ADVANCED CNC MACHINING TECHNICIAN (NSQF)</td>\n",
              "      <td>KARNATAKA</td>\n",
              "      <td>BELLARY</td>\n",
              "      <td>125</td>\n",
              "    </tr>\n",
              "    <tr>\n",
              "      <th>3</th>\n",
              "      <td>ADVANCED CNC MACHINING TECHNICIAN (NSQF)</td>\n",
              "      <td>KARNATAKA</td>\n",
              "      <td>BENGALURU RURAL</td>\n",
              "      <td>71</td>\n",
              "    </tr>\n",
              "    <tr>\n",
              "      <th>4</th>\n",
              "      <td>ADVANCED CNC MACHINING TECHNICIAN (NSQF)</td>\n",
              "      <td>KARNATAKA</td>\n",
              "      <td>BENGALURU URBAN</td>\n",
              "      <td>102</td>\n",
              "    </tr>\n",
              "    <tr>\n",
              "      <th>...</th>\n",
              "      <td>...</td>\n",
              "      <td>...</td>\n",
              "      <td>...</td>\n",
              "      <td>...</td>\n",
              "    </tr>\n",
              "    <tr>\n",
              "      <th>22409</th>\n",
              "      <td>Wireman (NSQF)</td>\n",
              "      <td>WEST BENGAL</td>\n",
              "      <td>MURSHIDABAD</td>\n",
              "      <td>39</td>\n",
              "    </tr>\n",
              "    <tr>\n",
              "      <th>22410</th>\n",
              "      <td>Wireman (NSQF)</td>\n",
              "      <td>WEST BENGAL</td>\n",
              "      <td>NADIA</td>\n",
              "      <td>202</td>\n",
              "    </tr>\n",
              "    <tr>\n",
              "      <th>22411</th>\n",
              "      <td>Wireman (NSQF)</td>\n",
              "      <td>WEST BENGAL</td>\n",
              "      <td>PURULIA</td>\n",
              "      <td>39</td>\n",
              "    </tr>\n",
              "    <tr>\n",
              "      <th>22412</th>\n",
              "      <td>Wireman (NSQF)</td>\n",
              "      <td>WEST BENGAL</td>\n",
              "      <td>UTTAR DINAJPUR</td>\n",
              "      <td>39</td>\n",
              "    </tr>\n",
              "    <tr>\n",
              "      <th>22413</th>\n",
              "      <td>Wood Work Technician (NSQF)</td>\n",
              "      <td>GUJARAT</td>\n",
              "      <td>AHMADABAD</td>\n",
              "      <td>1</td>\n",
              "    </tr>\n",
              "  </tbody>\n",
              "</table>\n",
              "<p>22414 rows × 4 columns</p>\n",
              "</div>\n",
              "    <div class=\"colab-df-buttons\">\n",
              "\n",
              "  <div class=\"colab-df-container\">\n",
              "    <button class=\"colab-df-convert\" onclick=\"convertToInteractive('df-63db7954-e61f-4b49-8111-c0c0c5dc3fc2')\"\n",
              "            title=\"Convert this dataframe to an interactive table.\"\n",
              "            style=\"display:none;\">\n",
              "\n",
              "  <svg xmlns=\"http://www.w3.org/2000/svg\" height=\"24px\" viewBox=\"0 -960 960 960\">\n",
              "    <path d=\"M120-120v-720h720v720H120Zm60-500h600v-160H180v160Zm220 220h160v-160H400v160Zm0 220h160v-160H400v160ZM180-400h160v-160H180v160Zm440 0h160v-160H620v160ZM180-180h160v-160H180v160Zm440 0h160v-160H620v160Z\"/>\n",
              "  </svg>\n",
              "    </button>\n",
              "\n",
              "  <style>\n",
              "    .colab-df-container {\n",
              "      display:flex;\n",
              "      gap: 12px;\n",
              "    }\n",
              "\n",
              "    .colab-df-convert {\n",
              "      background-color: #E8F0FE;\n",
              "      border: none;\n",
              "      border-radius: 50%;\n",
              "      cursor: pointer;\n",
              "      display: none;\n",
              "      fill: #1967D2;\n",
              "      height: 32px;\n",
              "      padding: 0 0 0 0;\n",
              "      width: 32px;\n",
              "    }\n",
              "\n",
              "    .colab-df-convert:hover {\n",
              "      background-color: #E2EBFA;\n",
              "      box-shadow: 0px 1px 2px rgba(60, 64, 67, 0.3), 0px 1px 3px 1px rgba(60, 64, 67, 0.15);\n",
              "      fill: #174EA6;\n",
              "    }\n",
              "\n",
              "    .colab-df-buttons div {\n",
              "      margin-bottom: 4px;\n",
              "    }\n",
              "\n",
              "    [theme=dark] .colab-df-convert {\n",
              "      background-color: #3B4455;\n",
              "      fill: #D2E3FC;\n",
              "    }\n",
              "\n",
              "    [theme=dark] .colab-df-convert:hover {\n",
              "      background-color: #434B5C;\n",
              "      box-shadow: 0px 1px 3px 1px rgba(0, 0, 0, 0.15);\n",
              "      filter: drop-shadow(0px 1px 2px rgba(0, 0, 0, 0.3));\n",
              "      fill: #FFFFFF;\n",
              "    }\n",
              "  </style>\n",
              "\n",
              "    <script>\n",
              "      const buttonEl =\n",
              "        document.querySelector('#df-63db7954-e61f-4b49-8111-c0c0c5dc3fc2 button.colab-df-convert');\n",
              "      buttonEl.style.display =\n",
              "        google.colab.kernel.accessAllowed ? 'block' : 'none';\n",
              "\n",
              "      async function convertToInteractive(key) {\n",
              "        const element = document.querySelector('#df-63db7954-e61f-4b49-8111-c0c0c5dc3fc2');\n",
              "        const dataTable =\n",
              "          await google.colab.kernel.invokeFunction('convertToInteractive',\n",
              "                                                    [key], {});\n",
              "        if (!dataTable) return;\n",
              "\n",
              "        const docLinkHtml = 'Like what you see? Visit the ' +\n",
              "          '<a target=\"_blank\" href=https://colab.research.google.com/notebooks/data_table.ipynb>data table notebook</a>'\n",
              "          + ' to learn more about interactive tables.';\n",
              "        element.innerHTML = '';\n",
              "        dataTable['output_type'] = 'display_data';\n",
              "        await google.colab.output.renderOutput(dataTable, element);\n",
              "        const docLink = document.createElement('div');\n",
              "        docLink.innerHTML = docLinkHtml;\n",
              "        element.appendChild(docLink);\n",
              "      }\n",
              "    </script>\n",
              "  </div>\n",
              "\n",
              "\n",
              "<div id=\"df-113e9368-6559-4acb-a50a-b11225cc8fb6\">\n",
              "  <button class=\"colab-df-quickchart\" onclick=\"quickchart('df-113e9368-6559-4acb-a50a-b11225cc8fb6')\"\n",
              "            title=\"Suggest charts\"\n",
              "            style=\"display:none;\">\n",
              "\n",
              "<svg xmlns=\"http://www.w3.org/2000/svg\" height=\"24px\"viewBox=\"0 0 24 24\"\n",
              "     width=\"24px\">\n",
              "    <g>\n",
              "        <path d=\"M19 3H5c-1.1 0-2 .9-2 2v14c0 1.1.9 2 2 2h14c1.1 0 2-.9 2-2V5c0-1.1-.9-2-2-2zM9 17H7v-7h2v7zm4 0h-2V7h2v10zm4 0h-2v-4h2v4z\"/>\n",
              "    </g>\n",
              "</svg>\n",
              "  </button>\n",
              "\n",
              "<style>\n",
              "  .colab-df-quickchart {\n",
              "      --bg-color: #E8F0FE;\n",
              "      --fill-color: #1967D2;\n",
              "      --hover-bg-color: #E2EBFA;\n",
              "      --hover-fill-color: #174EA6;\n",
              "      --disabled-fill-color: #AAA;\n",
              "      --disabled-bg-color: #DDD;\n",
              "  }\n",
              "\n",
              "  [theme=dark] .colab-df-quickchart {\n",
              "      --bg-color: #3B4455;\n",
              "      --fill-color: #D2E3FC;\n",
              "      --hover-bg-color: #434B5C;\n",
              "      --hover-fill-color: #FFFFFF;\n",
              "      --disabled-bg-color: #3B4455;\n",
              "      --disabled-fill-color: #666;\n",
              "  }\n",
              "\n",
              "  .colab-df-quickchart {\n",
              "    background-color: var(--bg-color);\n",
              "    border: none;\n",
              "    border-radius: 50%;\n",
              "    cursor: pointer;\n",
              "    display: none;\n",
              "    fill: var(--fill-color);\n",
              "    height: 32px;\n",
              "    padding: 0;\n",
              "    width: 32px;\n",
              "  }\n",
              "\n",
              "  .colab-df-quickchart:hover {\n",
              "    background-color: var(--hover-bg-color);\n",
              "    box-shadow: 0 1px 2px rgba(60, 64, 67, 0.3), 0 1px 3px 1px rgba(60, 64, 67, 0.15);\n",
              "    fill: var(--button-hover-fill-color);\n",
              "  }\n",
              "\n",
              "  .colab-df-quickchart-complete:disabled,\n",
              "  .colab-df-quickchart-complete:disabled:hover {\n",
              "    background-color: var(--disabled-bg-color);\n",
              "    fill: var(--disabled-fill-color);\n",
              "    box-shadow: none;\n",
              "  }\n",
              "\n",
              "  .colab-df-spinner {\n",
              "    border: 2px solid var(--fill-color);\n",
              "    border-color: transparent;\n",
              "    border-bottom-color: var(--fill-color);\n",
              "    animation:\n",
              "      spin 1s steps(1) infinite;\n",
              "  }\n",
              "\n",
              "  @keyframes spin {\n",
              "    0% {\n",
              "      border-color: transparent;\n",
              "      border-bottom-color: var(--fill-color);\n",
              "      border-left-color: var(--fill-color);\n",
              "    }\n",
              "    20% {\n",
              "      border-color: transparent;\n",
              "      border-left-color: var(--fill-color);\n",
              "      border-top-color: var(--fill-color);\n",
              "    }\n",
              "    30% {\n",
              "      border-color: transparent;\n",
              "      border-left-color: var(--fill-color);\n",
              "      border-top-color: var(--fill-color);\n",
              "      border-right-color: var(--fill-color);\n",
              "    }\n",
              "    40% {\n",
              "      border-color: transparent;\n",
              "      border-right-color: var(--fill-color);\n",
              "      border-top-color: var(--fill-color);\n",
              "    }\n",
              "    60% {\n",
              "      border-color: transparent;\n",
              "      border-right-color: var(--fill-color);\n",
              "    }\n",
              "    80% {\n",
              "      border-color: transparent;\n",
              "      border-right-color: var(--fill-color);\n",
              "      border-bottom-color: var(--fill-color);\n",
              "    }\n",
              "    90% {\n",
              "      border-color: transparent;\n",
              "      border-bottom-color: var(--fill-color);\n",
              "    }\n",
              "  }\n",
              "</style>\n",
              "\n",
              "  <script>\n",
              "    async function quickchart(key) {\n",
              "      const quickchartButtonEl =\n",
              "        document.querySelector('#' + key + ' button');\n",
              "      quickchartButtonEl.disabled = true;  // To prevent multiple clicks.\n",
              "      quickchartButtonEl.classList.add('colab-df-spinner');\n",
              "      try {\n",
              "        const charts = await google.colab.kernel.invokeFunction(\n",
              "            'suggestCharts', [key], {});\n",
              "      } catch (error) {\n",
              "        console.error('Error during call to suggestCharts:', error);\n",
              "      }\n",
              "      quickchartButtonEl.classList.remove('colab-df-spinner');\n",
              "      quickchartButtonEl.classList.add('colab-df-quickchart-complete');\n",
              "    }\n",
              "    (() => {\n",
              "      let quickchartButtonEl =\n",
              "        document.querySelector('#df-113e9368-6559-4acb-a50a-b11225cc8fb6 button');\n",
              "      quickchartButtonEl.style.display =\n",
              "        google.colab.kernel.accessAllowed ? 'block' : 'none';\n",
              "    })();\n",
              "  </script>\n",
              "</div>\n",
              "\n",
              "  <div id=\"id_27682b50-0282-49a3-8d35-23c60b063d18\">\n",
              "    <style>\n",
              "      .colab-df-generate {\n",
              "        background-color: #E8F0FE;\n",
              "        border: none;\n",
              "        border-radius: 50%;\n",
              "        cursor: pointer;\n",
              "        display: none;\n",
              "        fill: #1967D2;\n",
              "        height: 32px;\n",
              "        padding: 0 0 0 0;\n",
              "        width: 32px;\n",
              "      }\n",
              "\n",
              "      .colab-df-generate:hover {\n",
              "        background-color: #E2EBFA;\n",
              "        box-shadow: 0px 1px 2px rgba(60, 64, 67, 0.3), 0px 1px 3px 1px rgba(60, 64, 67, 0.15);\n",
              "        fill: #174EA6;\n",
              "      }\n",
              "\n",
              "      [theme=dark] .colab-df-generate {\n",
              "        background-color: #3B4455;\n",
              "        fill: #D2E3FC;\n",
              "      }\n",
              "\n",
              "      [theme=dark] .colab-df-generate:hover {\n",
              "        background-color: #434B5C;\n",
              "        box-shadow: 0px 1px 3px 1px rgba(0, 0, 0, 0.15);\n",
              "        filter: drop-shadow(0px 1px 2px rgba(0, 0, 0, 0.3));\n",
              "        fill: #FFFFFF;\n",
              "      }\n",
              "    </style>\n",
              "    <button class=\"colab-df-generate\" onclick=\"generateWithVariable('result_df')\"\n",
              "            title=\"Generate code using this dataframe.\"\n",
              "            style=\"display:none;\">\n",
              "\n",
              "  <svg xmlns=\"http://www.w3.org/2000/svg\" height=\"24px\"viewBox=\"0 0 24 24\"\n",
              "       width=\"24px\">\n",
              "    <path d=\"M7,19H8.4L18.45,9,17,7.55,7,17.6ZM5,21V16.75L18.45,3.32a2,2,0,0,1,2.83,0l1.4,1.43a1.91,1.91,0,0,1,.58,1.4,1.91,1.91,0,0,1-.58,1.4L9.25,21ZM18.45,9,17,7.55Zm-12,3A5.31,5.31,0,0,0,4.9,8.1,5.31,5.31,0,0,0,1,6.5,5.31,5.31,0,0,0,4.9,4.9,5.31,5.31,0,0,0,6.5,1,5.31,5.31,0,0,0,8.1,4.9,5.31,5.31,0,0,0,12,6.5,5.46,5.46,0,0,0,6.5,12Z\"/>\n",
              "  </svg>\n",
              "    </button>\n",
              "    <script>\n",
              "      (() => {\n",
              "      const buttonEl =\n",
              "        document.querySelector('#id_27682b50-0282-49a3-8d35-23c60b063d18 button.colab-df-generate');\n",
              "      buttonEl.style.display =\n",
              "        google.colab.kernel.accessAllowed ? 'block' : 'none';\n",
              "\n",
              "      buttonEl.onclick = () => {\n",
              "        google.colab.notebook.generateWithVariable('result_df');\n",
              "      }\n",
              "      })();\n",
              "    </script>\n",
              "  </div>\n",
              "\n",
              "    </div>\n",
              "  </div>\n"
            ],
            "application/vnd.google.colaboratory.intrinsic+json": {
              "type": "dataframe",
              "variable_name": "result_df",
              "summary": "{\n  \"name\": \"result_df\",\n  \"rows\": 22414,\n  \"fields\": [\n    {\n      \"column\": \"CourseName\",\n      \"properties\": {\n        \"dtype\": \"category\",\n        \"num_unique_values\": 289,\n        \"samples\": [\n          \"Digital Photographer\",\n          \"Mechanic (Motor Vehicle)\",\n          \"Welder (DA)\"\n        ],\n        \"semantic_type\": \"\",\n        \"description\": \"\"\n      }\n    },\n    {\n      \"column\": \"StateName\",\n      \"properties\": {\n        \"dtype\": \"category\",\n        \"num_unique_values\": 36,\n        \"samples\": [\n          \"THE DADRA AND NAGAR HAVELI AND DAMAN AND DIU\",\n          \"WEST BENGAL\",\n          \"MEGHALAYA\"\n        ],\n        \"semantic_type\": \"\",\n        \"description\": \"\"\n      }\n    },\n    {\n      \"column\": \"DistrictName\",\n      \"properties\": {\n        \"dtype\": \"category\",\n        \"num_unique_values\": 692,\n        \"samples\": [\n          \"BANKURA\",\n          \"BARGARH\",\n          \"KANPUR NAGAR\"\n        ],\n        \"semantic_type\": \"\",\n        \"description\": \"\"\n      }\n    },\n    {\n      \"column\": \"NumStudents\",\n      \"properties\": {\n        \"dtype\": \"number\",\n        \"std\": 1665,\n        \"min\": 1,\n        \"max\": 74855,\n        \"num_unique_values\": 2450,\n        \"samples\": [\n          2530,\n          877,\n          2006\n        ],\n        \"semantic_type\": \"\",\n        \"description\": \"\"\n      }\n    }\n  ]\n}"
            }
          },
          "metadata": {},
          "execution_count": 32
        }
      ]
    },
    {
      "cell_type": "code",
      "source": [
        "# prompt: add a column named Year to result_df and Year='ALL'\n",
        "\n",
        "# Add a 'Year' column with the value 'ALL'\n",
        "result_df['Year'] = 'ALL'"
      ],
      "metadata": {
        "id": "klTqtCh-BzWj"
      },
      "execution_count": 33,
      "outputs": []
    },
    {
      "cell_type": "code",
      "source": [
        "result_df"
      ],
      "metadata": {
        "colab": {
          "base_uri": "https://localhost:8080/",
          "height": 444
        },
        "id": "a7FjPm-xClV3",
        "outputId": "603b3d9d-527f-467e-a70c-5b016c3449fe"
      },
      "execution_count": 35,
      "outputs": [
        {
          "output_type": "execute_result",
          "data": {
            "text/plain": [
              "                                     CourseName    StateName     DistrictName  \\\n",
              "0      ADVANCED CNC MACHINING TECHNICIAN (NSQF)    KARNATAKA         BAGALKOT   \n",
              "1      ADVANCED CNC MACHINING TECHNICIAN (NSQF)    KARNATAKA          BELGAUM   \n",
              "2      ADVANCED CNC MACHINING TECHNICIAN (NSQF)    KARNATAKA          BELLARY   \n",
              "3      ADVANCED CNC MACHINING TECHNICIAN (NSQF)    KARNATAKA  BENGALURU RURAL   \n",
              "4      ADVANCED CNC MACHINING TECHNICIAN (NSQF)    KARNATAKA  BENGALURU URBAN   \n",
              "...                                         ...          ...              ...   \n",
              "22409                            Wireman (NSQF)  WEST BENGAL      MURSHIDABAD   \n",
              "22410                            Wireman (NSQF)  WEST BENGAL            NADIA   \n",
              "22411                            Wireman (NSQF)  WEST BENGAL          PURULIA   \n",
              "22412                            Wireman (NSQF)  WEST BENGAL   UTTAR DINAJPUR   \n",
              "22413               Wood Work Technician (NSQF)      GUJARAT        AHMADABAD   \n",
              "\n",
              "       NumStudents Year  \n",
              "0               72  ALL  \n",
              "1              114  ALL  \n",
              "2              125  ALL  \n",
              "3               71  ALL  \n",
              "4              102  ALL  \n",
              "...            ...  ...  \n",
              "22409           39  ALL  \n",
              "22410          202  ALL  \n",
              "22411           39  ALL  \n",
              "22412           39  ALL  \n",
              "22413            1  ALL  \n",
              "\n",
              "[22414 rows x 5 columns]"
            ],
            "text/html": [
              "\n",
              "  <div id=\"df-4423d697-003b-4cd3-8f74-45642db3a7fb\" class=\"colab-df-container\">\n",
              "    <div>\n",
              "<style scoped>\n",
              "    .dataframe tbody tr th:only-of-type {\n",
              "        vertical-align: middle;\n",
              "    }\n",
              "\n",
              "    .dataframe tbody tr th {\n",
              "        vertical-align: top;\n",
              "    }\n",
              "\n",
              "    .dataframe thead th {\n",
              "        text-align: right;\n",
              "    }\n",
              "</style>\n",
              "<table border=\"1\" class=\"dataframe\">\n",
              "  <thead>\n",
              "    <tr style=\"text-align: right;\">\n",
              "      <th></th>\n",
              "      <th>CourseName</th>\n",
              "      <th>StateName</th>\n",
              "      <th>DistrictName</th>\n",
              "      <th>NumStudents</th>\n",
              "      <th>Year</th>\n",
              "    </tr>\n",
              "  </thead>\n",
              "  <tbody>\n",
              "    <tr>\n",
              "      <th>0</th>\n",
              "      <td>ADVANCED CNC MACHINING TECHNICIAN (NSQF)</td>\n",
              "      <td>KARNATAKA</td>\n",
              "      <td>BAGALKOT</td>\n",
              "      <td>72</td>\n",
              "      <td>ALL</td>\n",
              "    </tr>\n",
              "    <tr>\n",
              "      <th>1</th>\n",
              "      <td>ADVANCED CNC MACHINING TECHNICIAN (NSQF)</td>\n",
              "      <td>KARNATAKA</td>\n",
              "      <td>BELGAUM</td>\n",
              "      <td>114</td>\n",
              "      <td>ALL</td>\n",
              "    </tr>\n",
              "    <tr>\n",
              "      <th>2</th>\n",
              "      <td>ADVANCED CNC MACHINING TECHNICIAN (NSQF)</td>\n",
              "      <td>KARNATAKA</td>\n",
              "      <td>BELLARY</td>\n",
              "      <td>125</td>\n",
              "      <td>ALL</td>\n",
              "    </tr>\n",
              "    <tr>\n",
              "      <th>3</th>\n",
              "      <td>ADVANCED CNC MACHINING TECHNICIAN (NSQF)</td>\n",
              "      <td>KARNATAKA</td>\n",
              "      <td>BENGALURU RURAL</td>\n",
              "      <td>71</td>\n",
              "      <td>ALL</td>\n",
              "    </tr>\n",
              "    <tr>\n",
              "      <th>4</th>\n",
              "      <td>ADVANCED CNC MACHINING TECHNICIAN (NSQF)</td>\n",
              "      <td>KARNATAKA</td>\n",
              "      <td>BENGALURU URBAN</td>\n",
              "      <td>102</td>\n",
              "      <td>ALL</td>\n",
              "    </tr>\n",
              "    <tr>\n",
              "      <th>...</th>\n",
              "      <td>...</td>\n",
              "      <td>...</td>\n",
              "      <td>...</td>\n",
              "      <td>...</td>\n",
              "      <td>...</td>\n",
              "    </tr>\n",
              "    <tr>\n",
              "      <th>22409</th>\n",
              "      <td>Wireman (NSQF)</td>\n",
              "      <td>WEST BENGAL</td>\n",
              "      <td>MURSHIDABAD</td>\n",
              "      <td>39</td>\n",
              "      <td>ALL</td>\n",
              "    </tr>\n",
              "    <tr>\n",
              "      <th>22410</th>\n",
              "      <td>Wireman (NSQF)</td>\n",
              "      <td>WEST BENGAL</td>\n",
              "      <td>NADIA</td>\n",
              "      <td>202</td>\n",
              "      <td>ALL</td>\n",
              "    </tr>\n",
              "    <tr>\n",
              "      <th>22411</th>\n",
              "      <td>Wireman (NSQF)</td>\n",
              "      <td>WEST BENGAL</td>\n",
              "      <td>PURULIA</td>\n",
              "      <td>39</td>\n",
              "      <td>ALL</td>\n",
              "    </tr>\n",
              "    <tr>\n",
              "      <th>22412</th>\n",
              "      <td>Wireman (NSQF)</td>\n",
              "      <td>WEST BENGAL</td>\n",
              "      <td>UTTAR DINAJPUR</td>\n",
              "      <td>39</td>\n",
              "      <td>ALL</td>\n",
              "    </tr>\n",
              "    <tr>\n",
              "      <th>22413</th>\n",
              "      <td>Wood Work Technician (NSQF)</td>\n",
              "      <td>GUJARAT</td>\n",
              "      <td>AHMADABAD</td>\n",
              "      <td>1</td>\n",
              "      <td>ALL</td>\n",
              "    </tr>\n",
              "  </tbody>\n",
              "</table>\n",
              "<p>22414 rows × 5 columns</p>\n",
              "</div>\n",
              "    <div class=\"colab-df-buttons\">\n",
              "\n",
              "  <div class=\"colab-df-container\">\n",
              "    <button class=\"colab-df-convert\" onclick=\"convertToInteractive('df-4423d697-003b-4cd3-8f74-45642db3a7fb')\"\n",
              "            title=\"Convert this dataframe to an interactive table.\"\n",
              "            style=\"display:none;\">\n",
              "\n",
              "  <svg xmlns=\"http://www.w3.org/2000/svg\" height=\"24px\" viewBox=\"0 -960 960 960\">\n",
              "    <path d=\"M120-120v-720h720v720H120Zm60-500h600v-160H180v160Zm220 220h160v-160H400v160Zm0 220h160v-160H400v160ZM180-400h160v-160H180v160Zm440 0h160v-160H620v160ZM180-180h160v-160H180v160Zm440 0h160v-160H620v160Z\"/>\n",
              "  </svg>\n",
              "    </button>\n",
              "\n",
              "  <style>\n",
              "    .colab-df-container {\n",
              "      display:flex;\n",
              "      gap: 12px;\n",
              "    }\n",
              "\n",
              "    .colab-df-convert {\n",
              "      background-color: #E8F0FE;\n",
              "      border: none;\n",
              "      border-radius: 50%;\n",
              "      cursor: pointer;\n",
              "      display: none;\n",
              "      fill: #1967D2;\n",
              "      height: 32px;\n",
              "      padding: 0 0 0 0;\n",
              "      width: 32px;\n",
              "    }\n",
              "\n",
              "    .colab-df-convert:hover {\n",
              "      background-color: #E2EBFA;\n",
              "      box-shadow: 0px 1px 2px rgba(60, 64, 67, 0.3), 0px 1px 3px 1px rgba(60, 64, 67, 0.15);\n",
              "      fill: #174EA6;\n",
              "    }\n",
              "\n",
              "    .colab-df-buttons div {\n",
              "      margin-bottom: 4px;\n",
              "    }\n",
              "\n",
              "    [theme=dark] .colab-df-convert {\n",
              "      background-color: #3B4455;\n",
              "      fill: #D2E3FC;\n",
              "    }\n",
              "\n",
              "    [theme=dark] .colab-df-convert:hover {\n",
              "      background-color: #434B5C;\n",
              "      box-shadow: 0px 1px 3px 1px rgba(0, 0, 0, 0.15);\n",
              "      filter: drop-shadow(0px 1px 2px rgba(0, 0, 0, 0.3));\n",
              "      fill: #FFFFFF;\n",
              "    }\n",
              "  </style>\n",
              "\n",
              "    <script>\n",
              "      const buttonEl =\n",
              "        document.querySelector('#df-4423d697-003b-4cd3-8f74-45642db3a7fb button.colab-df-convert');\n",
              "      buttonEl.style.display =\n",
              "        google.colab.kernel.accessAllowed ? 'block' : 'none';\n",
              "\n",
              "      async function convertToInteractive(key) {\n",
              "        const element = document.querySelector('#df-4423d697-003b-4cd3-8f74-45642db3a7fb');\n",
              "        const dataTable =\n",
              "          await google.colab.kernel.invokeFunction('convertToInteractive',\n",
              "                                                    [key], {});\n",
              "        if (!dataTable) return;\n",
              "\n",
              "        const docLinkHtml = 'Like what you see? Visit the ' +\n",
              "          '<a target=\"_blank\" href=https://colab.research.google.com/notebooks/data_table.ipynb>data table notebook</a>'\n",
              "          + ' to learn more about interactive tables.';\n",
              "        element.innerHTML = '';\n",
              "        dataTable['output_type'] = 'display_data';\n",
              "        await google.colab.output.renderOutput(dataTable, element);\n",
              "        const docLink = document.createElement('div');\n",
              "        docLink.innerHTML = docLinkHtml;\n",
              "        element.appendChild(docLink);\n",
              "      }\n",
              "    </script>\n",
              "  </div>\n",
              "\n",
              "\n",
              "<div id=\"df-03d9de91-357c-453e-8845-4746a5e13d78\">\n",
              "  <button class=\"colab-df-quickchart\" onclick=\"quickchart('df-03d9de91-357c-453e-8845-4746a5e13d78')\"\n",
              "            title=\"Suggest charts\"\n",
              "            style=\"display:none;\">\n",
              "\n",
              "<svg xmlns=\"http://www.w3.org/2000/svg\" height=\"24px\"viewBox=\"0 0 24 24\"\n",
              "     width=\"24px\">\n",
              "    <g>\n",
              "        <path d=\"M19 3H5c-1.1 0-2 .9-2 2v14c0 1.1.9 2 2 2h14c1.1 0 2-.9 2-2V5c0-1.1-.9-2-2-2zM9 17H7v-7h2v7zm4 0h-2V7h2v10zm4 0h-2v-4h2v4z\"/>\n",
              "    </g>\n",
              "</svg>\n",
              "  </button>\n",
              "\n",
              "<style>\n",
              "  .colab-df-quickchart {\n",
              "      --bg-color: #E8F0FE;\n",
              "      --fill-color: #1967D2;\n",
              "      --hover-bg-color: #E2EBFA;\n",
              "      --hover-fill-color: #174EA6;\n",
              "      --disabled-fill-color: #AAA;\n",
              "      --disabled-bg-color: #DDD;\n",
              "  }\n",
              "\n",
              "  [theme=dark] .colab-df-quickchart {\n",
              "      --bg-color: #3B4455;\n",
              "      --fill-color: #D2E3FC;\n",
              "      --hover-bg-color: #434B5C;\n",
              "      --hover-fill-color: #FFFFFF;\n",
              "      --disabled-bg-color: #3B4455;\n",
              "      --disabled-fill-color: #666;\n",
              "  }\n",
              "\n",
              "  .colab-df-quickchart {\n",
              "    background-color: var(--bg-color);\n",
              "    border: none;\n",
              "    border-radius: 50%;\n",
              "    cursor: pointer;\n",
              "    display: none;\n",
              "    fill: var(--fill-color);\n",
              "    height: 32px;\n",
              "    padding: 0;\n",
              "    width: 32px;\n",
              "  }\n",
              "\n",
              "  .colab-df-quickchart:hover {\n",
              "    background-color: var(--hover-bg-color);\n",
              "    box-shadow: 0 1px 2px rgba(60, 64, 67, 0.3), 0 1px 3px 1px rgba(60, 64, 67, 0.15);\n",
              "    fill: var(--button-hover-fill-color);\n",
              "  }\n",
              "\n",
              "  .colab-df-quickchart-complete:disabled,\n",
              "  .colab-df-quickchart-complete:disabled:hover {\n",
              "    background-color: var(--disabled-bg-color);\n",
              "    fill: var(--disabled-fill-color);\n",
              "    box-shadow: none;\n",
              "  }\n",
              "\n",
              "  .colab-df-spinner {\n",
              "    border: 2px solid var(--fill-color);\n",
              "    border-color: transparent;\n",
              "    border-bottom-color: var(--fill-color);\n",
              "    animation:\n",
              "      spin 1s steps(1) infinite;\n",
              "  }\n",
              "\n",
              "  @keyframes spin {\n",
              "    0% {\n",
              "      border-color: transparent;\n",
              "      border-bottom-color: var(--fill-color);\n",
              "      border-left-color: var(--fill-color);\n",
              "    }\n",
              "    20% {\n",
              "      border-color: transparent;\n",
              "      border-left-color: var(--fill-color);\n",
              "      border-top-color: var(--fill-color);\n",
              "    }\n",
              "    30% {\n",
              "      border-color: transparent;\n",
              "      border-left-color: var(--fill-color);\n",
              "      border-top-color: var(--fill-color);\n",
              "      border-right-color: var(--fill-color);\n",
              "    }\n",
              "    40% {\n",
              "      border-color: transparent;\n",
              "      border-right-color: var(--fill-color);\n",
              "      border-top-color: var(--fill-color);\n",
              "    }\n",
              "    60% {\n",
              "      border-color: transparent;\n",
              "      border-right-color: var(--fill-color);\n",
              "    }\n",
              "    80% {\n",
              "      border-color: transparent;\n",
              "      border-right-color: var(--fill-color);\n",
              "      border-bottom-color: var(--fill-color);\n",
              "    }\n",
              "    90% {\n",
              "      border-color: transparent;\n",
              "      border-bottom-color: var(--fill-color);\n",
              "    }\n",
              "  }\n",
              "</style>\n",
              "\n",
              "  <script>\n",
              "    async function quickchart(key) {\n",
              "      const quickchartButtonEl =\n",
              "        document.querySelector('#' + key + ' button');\n",
              "      quickchartButtonEl.disabled = true;  // To prevent multiple clicks.\n",
              "      quickchartButtonEl.classList.add('colab-df-spinner');\n",
              "      try {\n",
              "        const charts = await google.colab.kernel.invokeFunction(\n",
              "            'suggestCharts', [key], {});\n",
              "      } catch (error) {\n",
              "        console.error('Error during call to suggestCharts:', error);\n",
              "      }\n",
              "      quickchartButtonEl.classList.remove('colab-df-spinner');\n",
              "      quickchartButtonEl.classList.add('colab-df-quickchart-complete');\n",
              "    }\n",
              "    (() => {\n",
              "      let quickchartButtonEl =\n",
              "        document.querySelector('#df-03d9de91-357c-453e-8845-4746a5e13d78 button');\n",
              "      quickchartButtonEl.style.display =\n",
              "        google.colab.kernel.accessAllowed ? 'block' : 'none';\n",
              "    })();\n",
              "  </script>\n",
              "</div>\n",
              "\n",
              "  <div id=\"id_1172e5a9-37ab-42bb-bc0e-58c4ca7fc794\">\n",
              "    <style>\n",
              "      .colab-df-generate {\n",
              "        background-color: #E8F0FE;\n",
              "        border: none;\n",
              "        border-radius: 50%;\n",
              "        cursor: pointer;\n",
              "        display: none;\n",
              "        fill: #1967D2;\n",
              "        height: 32px;\n",
              "        padding: 0 0 0 0;\n",
              "        width: 32px;\n",
              "      }\n",
              "\n",
              "      .colab-df-generate:hover {\n",
              "        background-color: #E2EBFA;\n",
              "        box-shadow: 0px 1px 2px rgba(60, 64, 67, 0.3), 0px 1px 3px 1px rgba(60, 64, 67, 0.15);\n",
              "        fill: #174EA6;\n",
              "      }\n",
              "\n",
              "      [theme=dark] .colab-df-generate {\n",
              "        background-color: #3B4455;\n",
              "        fill: #D2E3FC;\n",
              "      }\n",
              "\n",
              "      [theme=dark] .colab-df-generate:hover {\n",
              "        background-color: #434B5C;\n",
              "        box-shadow: 0px 1px 3px 1px rgba(0, 0, 0, 0.15);\n",
              "        filter: drop-shadow(0px 1px 2px rgba(0, 0, 0, 0.3));\n",
              "        fill: #FFFFFF;\n",
              "      }\n",
              "    </style>\n",
              "    <button class=\"colab-df-generate\" onclick=\"generateWithVariable('result_df')\"\n",
              "            title=\"Generate code using this dataframe.\"\n",
              "            style=\"display:none;\">\n",
              "\n",
              "  <svg xmlns=\"http://www.w3.org/2000/svg\" height=\"24px\"viewBox=\"0 0 24 24\"\n",
              "       width=\"24px\">\n",
              "    <path d=\"M7,19H8.4L18.45,9,17,7.55,7,17.6ZM5,21V16.75L18.45,3.32a2,2,0,0,1,2.83,0l1.4,1.43a1.91,1.91,0,0,1,.58,1.4,1.91,1.91,0,0,1-.58,1.4L9.25,21ZM18.45,9,17,7.55Zm-12,3A5.31,5.31,0,0,0,4.9,8.1,5.31,5.31,0,0,0,1,6.5,5.31,5.31,0,0,0,4.9,4.9,5.31,5.31,0,0,0,6.5,1,5.31,5.31,0,0,0,8.1,4.9,5.31,5.31,0,0,0,12,6.5,5.46,5.46,0,0,0,6.5,12Z\"/>\n",
              "  </svg>\n",
              "    </button>\n",
              "    <script>\n",
              "      (() => {\n",
              "      const buttonEl =\n",
              "        document.querySelector('#id_1172e5a9-37ab-42bb-bc0e-58c4ca7fc794 button.colab-df-generate');\n",
              "      buttonEl.style.display =\n",
              "        google.colab.kernel.accessAllowed ? 'block' : 'none';\n",
              "\n",
              "      buttonEl.onclick = () => {\n",
              "        google.colab.notebook.generateWithVariable('result_df');\n",
              "      }\n",
              "      })();\n",
              "    </script>\n",
              "  </div>\n",
              "\n",
              "    </div>\n",
              "  </div>\n"
            ],
            "application/vnd.google.colaboratory.intrinsic+json": {
              "type": "dataframe",
              "variable_name": "result_df",
              "summary": "{\n  \"name\": \"result_df\",\n  \"rows\": 22414,\n  \"fields\": [\n    {\n      \"column\": \"CourseName\",\n      \"properties\": {\n        \"dtype\": \"category\",\n        \"num_unique_values\": 289,\n        \"samples\": [\n          \"Digital Photographer\",\n          \"Mechanic (Motor Vehicle)\",\n          \"Welder (DA)\"\n        ],\n        \"semantic_type\": \"\",\n        \"description\": \"\"\n      }\n    },\n    {\n      \"column\": \"StateName\",\n      \"properties\": {\n        \"dtype\": \"category\",\n        \"num_unique_values\": 36,\n        \"samples\": [\n          \"THE DADRA AND NAGAR HAVELI AND DAMAN AND DIU\",\n          \"WEST BENGAL\",\n          \"MEGHALAYA\"\n        ],\n        \"semantic_type\": \"\",\n        \"description\": \"\"\n      }\n    },\n    {\n      \"column\": \"DistrictName\",\n      \"properties\": {\n        \"dtype\": \"category\",\n        \"num_unique_values\": 692,\n        \"samples\": [\n          \"BANKURA\",\n          \"BARGARH\",\n          \"KANPUR NAGAR\"\n        ],\n        \"semantic_type\": \"\",\n        \"description\": \"\"\n      }\n    },\n    {\n      \"column\": \"NumStudents\",\n      \"properties\": {\n        \"dtype\": \"number\",\n        \"std\": 1665,\n        \"min\": 1,\n        \"max\": 74855,\n        \"num_unique_values\": 2450,\n        \"samples\": [\n          2530,\n          877,\n          2006\n        ],\n        \"semantic_type\": \"\",\n        \"description\": \"\"\n      }\n    },\n    {\n      \"column\": \"Year\",\n      \"properties\": {\n        \"dtype\": \"category\",\n        \"num_unique_values\": 1,\n        \"samples\": [\n          \"ALL\"\n        ],\n        \"semantic_type\": \"\",\n        \"description\": \"\"\n      }\n    }\n  ]\n}"
            }
          },
          "metadata": {},
          "execution_count": 35
        }
      ]
    },
    {
      "cell_type": "code",
      "source": [],
      "metadata": {
        "id": "RqbjPNuNCmyV"
      },
      "execution_count": null,
      "outputs": []
    },
    {
      "source": [
        "import pandas as pd\n",
        "\n",
        "# ... (Load df1 and create district_data) ...\n",
        "\n",
        "# Concatenate the DataFrames\n",
        "combined_data1 = pd.concat([course_wise_student_counts,result_df], ignore_index=True)\n",
        "\n",
        "# Print or save the combined DataFrame\n",
        "print(combined_data1)  # Print the combined data\n",
        "# combined_data.to_csv('combined_data.csv', index=False)  # Save to a CSV file (optional)"
      ],
      "cell_type": "code",
      "metadata": {
        "colab": {
          "base_uri": "https://localhost:8080/"
        },
        "id": "y6lGUL1uCri3",
        "outputId": "ff389c2b-3963-4117-9833-fb24bab48914"
      },
      "execution_count": 36,
      "outputs": [
        {
          "output_type": "stream",
          "name": "stdout",
          "text": [
            "                                      CourseName    StateName    DistrictName  \\\n",
            "0       ADVANCED CNC MACHINING TECHNICIAN (NSQF)    KARNATAKA        BAGALKOT   \n",
            "1       ADVANCED CNC MACHINING TECHNICIAN (NSQF)    KARNATAKA        BAGALKOT   \n",
            "2       ADVANCED CNC MACHINING TECHNICIAN (NSQF)    KARNATAKA         BELGAUM   \n",
            "3       ADVANCED CNC MACHINING TECHNICIAN (NSQF)    KARNATAKA         BELGAUM   \n",
            "4       ADVANCED CNC MACHINING TECHNICIAN (NSQF)    KARNATAKA         BELLARY   \n",
            "...                                          ...          ...             ...   \n",
            "107019                            Wireman (NSQF)  WEST BENGAL     MURSHIDABAD   \n",
            "107020                            Wireman (NSQF)  WEST BENGAL           NADIA   \n",
            "107021                            Wireman (NSQF)  WEST BENGAL         PURULIA   \n",
            "107022                            Wireman (NSQF)  WEST BENGAL  UTTAR DINAJPUR   \n",
            "107023               Wood Work Technician (NSQF)      GUJARAT       AHMADABAD   \n",
            "\n",
            "        Year  NumStudents  \n",
            "0       2021           24  \n",
            "1       2022           48  \n",
            "2       2021           24  \n",
            "3       2022           90  \n",
            "4       2021           32  \n",
            "...      ...          ...  \n",
            "107019   ALL           39  \n",
            "107020   ALL          202  \n",
            "107021   ALL           39  \n",
            "107022   ALL           39  \n",
            "107023   ALL            1  \n",
            "\n",
            "[107024 rows x 5 columns]\n"
          ]
        }
      ]
    },
    {
      "cell_type": "code",
      "source": [
        "# prompt: print how many types of Year column values of combined_data1\n",
        "\n",
        "print(combined_data1['Year'].unique())"
      ],
      "metadata": {
        "colab": {
          "base_uri": "https://localhost:8080/"
        },
        "id": "VAvdeOKnC24B",
        "outputId": "290b5fe3-8542-4e9f-83a6-d1311a90541e"
      },
      "execution_count": 46,
      "outputs": [
        {
          "output_type": "stream",
          "name": "stdout",
          "text": [
            "['2021' '2022' '2020' '2019' '2018' '2014' '2015' '2016' '2017' 'ALL']\n"
          ]
        }
      ]
    },
    {
      "cell_type": "code",
      "source": [],
      "metadata": {
        "colab": {
          "base_uri": "https://localhost:8080/"
        },
        "id": "0Bt4JIpNDku8",
        "outputId": "f271d125-9988-4777-c6af-4c5cce37f40b"
      },
      "execution_count": 40,
      "outputs": [
        {
          "output_type": "stream",
          "name": "stdout",
          "text": [
            "         pkTraineeRegNumber          StateName         DistrictName  \\\n",
            "0             R140812000429  ARUNACHAL PRADESH  LOWER DIBANG VALLEY   \n",
            "1             R140812000428  ARUNACHAL PRADESH  LOWER DIBANG VALLEY   \n",
            "2             R140812000427  ARUNACHAL PRADESH      UPPER SUBANSIRI   \n",
            "3             R140812000426  ARUNACHAL PRADESH      UPPER SUBANSIRI   \n",
            "4             R140812000425  ARUNACHAL PRADESH  LOWER DIBANG VALLEY   \n",
            "...                     ...                ...                  ...   \n",
            "10743989      R160813000005           NAGALAND           MOKOKCHUNG   \n",
            "10743990      R160813000004           NAGALAND           MOKOKCHUNG   \n",
            "10743991      R160813000003           NAGALAND           MOKOKCHUNG   \n",
            "10743992      R160813000002           NAGALAND           MOKOKCHUNG   \n",
            "10743993      R160813000001           NAGALAND           MOKOKCHUNG   \n",
            "\n",
            "                                                   ITIName  \\\n",
            "0               Govt. Industrial Training Institute, Roing   \n",
            "1               Govt. Industrial Training Institute, Roing   \n",
            "2             Govt Industrial Training Institute, Tabarijo   \n",
            "3             Govt Industrial Training Institute, Tabarijo   \n",
            "4               Govt. Industrial Training Institute, Roing   \n",
            "...                                                    ...   \n",
            "10743989  Govt.  Industrial Training Institute, Mokokchung   \n",
            "10743990  Govt.  Industrial Training Institute, Mokokchung   \n",
            "10743991  Govt.  Industrial Training Institute, Mokokchung   \n",
            "10743992  Govt.  Industrial Training Institute, Mokokchung   \n",
            "10743993  Govt.  Industrial Training Institute, Mokokchung   \n",
            "\n",
            "                              CourseName  Year  \n",
            "0                            Electrician  2014  \n",
            "1                                Wireman  2014  \n",
            "2         Secretarial Practice (English)  2014  \n",
            "3                            Electrician  2014  \n",
            "4                              Carpenter  2014  \n",
            "...                                  ...   ...  \n",
            "10743989  Secretarial Practice (English)  2016  \n",
            "10743990  Secretarial Practice (English)  2016  \n",
            "10743991  Secretarial Practice (English)  2016  \n",
            "10743992  Secretarial Practice (English)  2016  \n",
            "10743993  Secretarial Practice (English)  2016  \n",
            "\n",
            "[10743994 rows x 6 columns]\n"
          ]
        }
      ]
    },
    {
      "cell_type": "code",
      "source": [
        "# Change 'Year' column to string type\n",
        "combined_data1['Year'] = combined_data1['Year'].astype(str)\n",
        "\n",
        "# Print the DataFrame to verify the changes\n",
        "print(combined_data1.dtypes)"
      ],
      "metadata": {
        "colab": {
          "base_uri": "https://localhost:8080/"
        },
        "id": "-1XAAvOtD2Nd",
        "outputId": "78c6c02f-ef70-43f0-df12-f4f69fed3c8b"
      },
      "execution_count": 45,
      "outputs": [
        {
          "output_type": "stream",
          "name": "stdout",
          "text": [
            "CourseName      object\n",
            "StateName       object\n",
            "DistrictName    object\n",
            "Year            object\n",
            "NumStudents      int64\n",
            "dtype: object\n"
          ]
        }
      ]
    },
    {
      "cell_type": "code",
      "source": [
        "combined_data1.to_csv('combined_data1.csv', index=False)"
      ],
      "metadata": {
        "id": "OscWYgNxEf-7"
      },
      "execution_count": 47,
      "outputs": []
    },
    {
      "cell_type": "code",
      "source": [],
      "metadata": {
        "id": "VeOS1aLIEk6i"
      },
      "execution_count": null,
      "outputs": []
    }
  ]
}